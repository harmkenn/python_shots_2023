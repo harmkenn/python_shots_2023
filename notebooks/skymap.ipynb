{
 "cells": [
  {
   "cell_type": "markdown",
   "metadata": {},
   "source": [
    "https://levelup.gitconnected.com/how-to-use-python-to-create-custom-star-maps-for-your-next-stargazing-journey-9908b421f30e"
   ]
  },
  {
   "cell_type": "code",
   "execution_count": null,
   "metadata": {},
   "outputs": [],
   "source": [
    "#install the required libraries for the first time \n",
    "#!pip install skyfield\n",
    "#!pip install tzwhere\n",
    "#!pip install geopy\n",
    "\n",
    "from datetime import datetime\n",
    "from geopy import Nominatim\n",
    "from tzwhere import tzwhere\n",
    "from pytz import timezone, utc\n",
    "\n",
    "import numpy as np\n",
    "import matplotlib.pyplot as plt\n",
    "from matplotlib.collections import LineCollection\n",
    "from matplotlib.patches import Circle\n",
    "\n",
    "from skyfield.api import Star, load, wgs84\n",
    "from skyfield.data import hipparcos, mpc, stellarium\n",
    "from skyfield.projections import build_stereographic_projection\n",
    "from skyfield.constants import GM_SUN_Pitjeva_2005_km3_s2 as GM_SUN"
   ]
  },
  {
   "cell_type": "code",
   "execution_count": null,
   "metadata": {},
   "outputs": [],
   "source": [
    "def load_data():\n",
    "    # de421 shows position of earth and sun in space\n",
    "    eph = load('de421.bsp')\n",
    "\n",
    "    # hipparcos dataset\n",
    "    with load.open(hipparcos.URL) as f:\n",
    "        stars = hipparcos.load_dataframe(f)\n",
    "\n",
    "    # constellation dataset\n",
    "    url = ('https://raw.githubusercontent.com/Stellarium/stellarium/master'\n",
    "           '/skycultures/modern_st/constellationship.fab')\n",
    "\n",
    "    with load.open(url) as f:\n",
    "        constellations = stellarium.parse_constellations(f)\n",
    "        \n",
    "    return eph, stars, constellations\n",
    "        \n",
    "# load celestial data\n",
    "eph, stars, constellations = load_data()"
   ]
  },
  {
   "cell_type": "code",
   "execution_count": null,
   "metadata": {},
   "outputs": [
    {
     "name": "stdout",
     "output_type": "stream",
     "text": [
      "Coordinates of New York: Latitude = 40.7127281, Longitude = -74.0060152\n"
     ]
    }
   ],
   "source": [
    "from geopy.geocoders import Nominatim\n",
    "\n",
    "def get_coordinates(city_name):\n",
    "    # Initialize the Nominatim geocoder\n",
    "    geolocator = Nominatim(user_agent=\"city_coordinates\")\n",
    "\n",
    "    try:\n",
    "        # Use the geocoder to get the location information\n",
    "        location = geolocator.geocode(city_name)\n",
    "\n",
    "        if location:\n",
    "            # Extract latitude and longitude\n",
    "            latitude = location.latitude\n",
    "            longitude = location.longitude\n",
    "            return latitude, longitude\n",
    "        else:\n",
    "            return None\n",
    "    except Exception as e:\n",
    "        print(\"Error:\", str(e))\n",
    "        return None\n",
    "\n",
    "# Example usage:\n",
    "city_name = \"New York\"\n",
    "coordinates = get_coordinates(city_name)\n",
    "\n",
    "if coordinates:\n",
    "    print(f\"Coordinates of {city_name}: Latitude = {coordinates[0]}, Longitude = {coordinates[1]}\")\n",
    "else:\n",
    "    print(f\"Coordinates for {city_name} not found.\")"
   ]
  },
  {
   "cell_type": "code",
   "execution_count": 17,
   "metadata": {},
   "outputs": [],
   "source": [
    "def collect_celestial_data(location, when):\n",
    "    # Get latitude coordinates\n",
    "    locator = Nominatim(user_agent='myGeocoder', timeout = 10)\n",
    "    location = get_coordinates(location)\n",
    "    \n",
    "    lat, long = location[0], location[1]\n",
    "    \n",
    "    # Convert date string into datetime object\n",
    "    dt = datetime.strptime(when, '%Y-%m-%d %H:%M')\n",
    "\n",
    "    # Define datetime and convert to UTC based on location coordinates\n",
    "    timezone_str = tzwhere.tzwhere().tzNameAt(lat, long)\n",
    "    local = timezone(timezone_str)\n",
    "    utc_dt = local.localize(dt, is_dst=None).astimezone(utc)\n",
    "\n",
    "    # Define observer using location coordinates and current UTC time\n",
    "    t = load.timescale().from_datetime(utc_dt)\n",
    "    observer = wgs84.latlon(latitude_degrees=lat, longitude_degrees=long).at(t)\n",
    "\n",
    "    # An ephemeris on Sun and Earth positions.\n",
    "    sun = eph['sun']\n",
    "    earth = eph['earth']\n",
    "    \n",
    "    # And the constellation outlines list.\n",
    "    edges = [edge for name, edges in constellations for edge in edges]\n",
    "    edges_star1 = [star1 for star1, star2 in edges]\n",
    "    edges_star2 = [star2 for star1, star2 in edges]\n",
    "\n",
    "    \n",
    "    # Define the angle and center the observation location by the angle\n",
    "    position = observer.from_altaz(alt_degrees=90, az_degrees=0)\n",
    "    ra, dec, distance = observer.radec()\n",
    "    center_object = Star(ra=ra, dec=dec)\n",
    "\n",
    "    # Build the stereographic projection\n",
    "    center = earth.at(t).observe(center_object)\n",
    "    projection = build_stereographic_projection(center)\n",
    "    field_of_view_degrees = 180.0\n",
    "\n",
    "    # Compute the x and y coordinates based on the projection\n",
    "    star_positions = earth.at(t).observe(Star.from_dataframe(stars))\n",
    "    stars['x'], stars['y'] = projection(star_positions)\n",
    "    \n",
    "    return stars, edges_star1, edges_star2\n",
    "    \n",
    "    \n",
    "# call the above function with a given location and timestamp\n",
    "location = 'New York, NY'\n",
    "when = '2023-12-01 00:00'\n",
    "#stars, edges_star1, edges_star2 = collect_celestial_data(location, when)"
   ]
  },
  {
   "cell_type": "code",
   "execution_count": 25,
   "metadata": {},
   "outputs": [],
   "source": [
    "location = 'New York, NY'\n",
    "when = '2023-12-01 00:00'\n",
    "locator = Nominatim(user_agent='myGeocoder', timeout = 10)\n",
    "location = get_coordinates(location)\n",
    "    \n",
    "lat, long = location[0], location[1]\n",
    "    \n",
    "# Convert date string into datetime object\n",
    "dt = datetime.strptime(when, '%Y-%m-%d %H:%M')\n"
   ]
  },
  {
   "cell_type": "code",
   "execution_count": null,
   "metadata": {},
   "outputs": [],
   "source": [
    "local = timezone(timezone_str)\n",
    "utc_dt = local.localize(dt, is_dst=None).astimezone(utc)\n",
    "# Define observer using location coordinates and current UTC time\n",
    "t = load.timescale().from_datetime(utc_dt)\n",
    "observer = wgs84.latlon(latitude_degrees=lat, longitude_degrees=long).at(t)\n",
    "# An ephemeris on Sun and Earth positions.\n",
    "sun = eph['sun']\n",
    "earth = eph['earth']\n",
    "    "
   ]
  }
 ],
 "metadata": {
  "kernelspec": {
   "display_name": "Python 3",
   "language": "python",
   "name": "python3"
  },
  "language_info": {
   "codemirror_mode": {
    "name": "ipython",
    "version": 3
   },
   "file_extension": ".py",
   "mimetype": "text/x-python",
   "name": "python",
   "nbconvert_exporter": "python",
   "pygments_lexer": "ipython3",
   "version": "3.11.5"
  },
  "orig_nbformat": 4
 },
 "nbformat": 4,
 "nbformat_minor": 2
}
