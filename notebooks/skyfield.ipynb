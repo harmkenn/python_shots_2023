{
 "cells": [
  {
   "cell_type": "markdown",
   "metadata": {},
   "source": [
    "Skyfield has only a single binary dependency, the NumPy vector library, and is designed to install cleanly with a single invocation of the standard Python package tool:\n",
    "https://rhodesmill.org/skyfield/installation.html"
   ]
  },
  {
   "cell_type": "code",
   "execution_count": null,
   "metadata": {},
   "outputs": [],
   "source": [
    "pip install skyfield"
   ]
  },
  {
   "cell_type": "code",
   "execution_count": null,
   "metadata": {},
   "outputs": [],
   "source": [
    "import skyfield\n",
    "\n",
    "if skyfield.VERSION < (1, 24):\n",
    "    print('Too old')"
   ]
  },
  {
   "cell_type": "markdown",
   "metadata": {},
   "source": [
    "Computing the position of Mars in the sky is as easy as:"
   ]
  },
  {
   "cell_type": "code",
   "execution_count": null,
   "metadata": {},
   "outputs": [],
   "source": [
    "from skyfield.api import load\n",
    "\n",
    "# Create a timescale and ask the current time.\n",
    "ts = load.timescale()\n",
    "t = ts.now()\n",
    "\n",
    "# Load the JPL ephemeris DE421 (covers 1900-2050).\n",
    "planets = load('de421.bsp')\n",
    "earth, mars = planets['earth'], planets['mars']\n",
    "\n",
    "# What's the position of Mars, viewed from Earth?\n",
    "astrometric = earth.at(t).observe(mars)\n",
    "ra, dec, distance = astrometric.radec()\n",
    "\n",
    "print(ra)\n",
    "print(dec)\n",
    "print(distance)"
   ]
  },
  {
   "cell_type": "markdown",
   "metadata": {},
   "source": [
    "Skyfield can compute geocentric coordinates, as shown in the example above, or topocentric coordinates specific to your location on the Earth’s surface:"
   ]
  },
  {
   "cell_type": "code",
   "execution_count": null,
   "metadata": {},
   "outputs": [],
   "source": [
    "from skyfield.api import N, W, wgs84\n",
    "\n",
    "boston = earth + wgs84.latlon(42.3583 * N, 71.0636 * W)\n",
    "astrometric = boston.at(t).observe(mars)\n",
    "alt, az, d = astrometric.apparent().altaz()\n",
    "\n",
    "print(alt)\n",
    "print(az)"
   ]
  },
  {
   "cell_type": "markdown",
   "metadata": {},
   "source": [
    "https://rhodesmill.org/skyfield/api.html\n",
    "Skyfield offers a tuple skyfield.VERSION that lets your code determine the installed version of Skyfield."
   ]
  },
  {
   "cell_type": "code",
   "execution_count": null,
   "metadata": {},
   "outputs": [],
   "source": [
    "import skyfield\n",
    "print(skyfield.VERSION)"
   ]
  },
  {
   "cell_type": "code",
   "execution_count": null,
   "metadata": {},
   "outputs": [],
   "source": [
    "from skyfield\n",
    "Geoid.latlon(30,30)"
   ]
  },
  {
   "cell_type": "markdown",
   "metadata": {},
   "source": [
    "Sure, you can use the Skyfield package in Python to find the location of the moon. Here is an example of a Python program that you can use:"
   ]
  },
  {
   "cell_type": "code",
   "execution_count": null,
   "metadata": {},
   "outputs": [],
   "source": [
    "from skyfield.position import Observer\n",
    "\n",
    "observer = Observer(\"38.5763,-121.9240\")\n",
    "moon = skyfield.api.Moon()\n",
    "\n",
    "position = observer.at(moon.epoch).observe(moon)\n",
    "\n",
    "print(position)\n",
    "\n"
   ]
  },
  {
   "cell_type": "markdown",
   "metadata": {},
   "source": [
    "ChatGPT\n",
    "\n",
    "To find the location of the Moon using the Skyfield package in Python, you can follow the steps below:\n",
    "\n",
    "Install Skyfield: Make sure you have Skyfield installed in your Python environment. You can install it using pip:"
   ]
  },
  {
   "cell_type": "code",
   "execution_count": null,
   "metadata": {},
   "outputs": [],
   "source": [
    "from skyfield.api import load, Topos\n",
    "from datetime import datetime"
   ]
  },
  {
   "cell_type": "markdown",
   "metadata": {},
   "source": [
    "Load the necessary data: Load the necessary data files from the Skyfield package. In this case, we need to load the Earth and Moon ephemeris files."
   ]
  },
  {
   "cell_type": "code",
   "execution_count": null,
   "metadata": {},
   "outputs": [],
   "source": [
    "data = load('de421.bsp')\n",
    "earth = data['earth']\n",
    "moon = data['moon']"
   ]
  },
  {
   "cell_type": "markdown",
   "metadata": {},
   "source": [
    "Define the observer's location: You need to specify the observer's location on Earth. For example, if you want to find the Moon's location from San Francisco, you can define it as follows:"
   ]
  },
  {
   "cell_type": "code",
   "execution_count": null,
   "metadata": {},
   "outputs": [],
   "source": [
    "observer_latitude = 37.7749\n",
    "observer_longitude = -122.4194\n",
    "observer_elevation = 0  # in meters\n",
    "observer = earth + Topos(observer_latitude, observer_longitude, elevation_m=observer_elevation)"
   ]
  },
  {
   "cell_type": "markdown",
   "metadata": {},
   "source": [
    "Get the current date and time: Retrieve the current date and time using the datetime module."
   ]
  },
  {
   "cell_type": "code",
   "execution_count": null,
   "metadata": {},
   "outputs": [],
   "source": [
    "current_time = datetime.utcnow()\n",
    "current_time"
   ]
  },
  {
   "cell_type": "code",
   "execution_count": null,
   "metadata": {},
   "outputs": [],
   "source": [
    "# Convert the datetime object to a Skyfield Time object\n",
    "ts = load.timescale()\n",
    "time = ts.utc(current_time.year, current_time.month, current_time.day,\n",
    "              current_time.hour, current_time.minute, current_time.second)\n",
    "time"
   ]
  },
  {
   "cell_type": "markdown",
   "metadata": {},
   "source": [
    "Calculate the Moon's position: Use the Skyfield package to calculate the Moon's position at the specified observer's location and time."
   ]
  },
  {
   "cell_type": "code",
   "execution_count": null,
   "metadata": {},
   "outputs": [],
   "source": [
    "# Calculate the Moon's position\n",
    "moon_position = observer.at(time).observe(moon)\n",
    "moon_position"
   ]
  },
  {
   "cell_type": "code",
   "execution_count": null,
   "metadata": {},
   "outputs": [],
   "source": [
    "# Get the apparent position\n",
    "apparent_moon = moon_position.apparent()\n",
    "apparent_moon"
   ]
  },
  {
   "cell_type": "code",
   "execution_count": null,
   "metadata": {},
   "outputs": [],
   "source": [
    "# Extract the altitude and azimuth\n",
    "altitude = apparent_moon.altaz()[0].degrees\n",
    "azimuth = apparent_moon.altaz()[1].degrees\n",
    "\n",
    "altitude, azimuth"
   ]
  },
  {
   "cell_type": "code",
   "execution_count": null,
   "metadata": {},
   "outputs": [],
   "source": [
    "from skyfield.api import load, Topos\n",
    "from datetime import datetime\n",
    "from skyfield.api import utc\n",
    "\n",
    "# Load the necessary data\n",
    "data = load('de421.bsp')\n",
    "earth = data['earth']\n",
    "sun = data['sun']\n",
    "\n",
    "# Define the observer's location\n",
    "observer_latitude = 37.7749\n",
    "observer_longitude = -122.4194\n",
    "observer_elevation = 0  # in meters\n",
    "observer = earth + Topos(observer_latitude, observer_longitude, elevation_m=observer_elevation)\n",
    "\n",
    "# Get the current date and time\n",
    "current_time = datetime.utcnow()\n",
    "\n",
    "# Convert the datetime object to a Skyfield Time object\n",
    "ts = load.timescale()\n",
    "time = ts.utc(current_time.year, current_time.month, current_time.day,\n",
    "              current_time.hour, current_time.minute, current_time.second)\n",
    "\n",
    "# Calculate the Sun's position\n",
    "sun_position = observer.at(time).observe(sun)\n",
    "\n",
    "# Get the apparent position\n",
    "apparent_sun = sun_position.apparent()\n",
    "\n",
    "# Extract the altitude and azimuth\n",
    "altitude = apparent_sun.altaz()[0].degrees\n",
    "azimuth = apparent_sun.altaz()[1].degrees\n",
    "\n",
    "print(\"Altitude:\", altitude)\n",
    "print(\"Azimuth:\", azimuth)\n"
   ]
  },
  {
   "cell_type": "code",
   "execution_count": null,
   "metadata": {},
   "outputs": [],
   "source": [
    "import numpy as np\n",
    "import matplotlib.pyplot as plt\n",
    "from datetime import datetime\n",
    "from skyfield.api import Topos, load\n",
    "\n",
    "# Define the observer's location (latitude, longitude, and elevation)\n",
    "observer_latitude = 37.7749  # Latitude of San Francisco, CA\n",
    "observer_longitude = -122.4194  # Longitude of San Francisco, CA\n",
    "observer_elevation = 0  # Elevation above sea level (in meters)\n",
    "\n",
    "# Create a Topos object representing the observer's location\n",
    "observer_location = Topos(latitude_degrees=observer_latitude, longitude_degrees=observer_longitude, elevation_m=observer_elevation)\n",
    "\n",
    "# Load the ephemeris data for major celestial bodies\n",
    "eph = load('de421.bsp')\n",
    "\n",
    "# Define the date and time for the observation\n",
    "now = datetime.utcnow()\n",
    "\n",
    "# Create a timescale and a time object\n",
    "ts = load.timescale()\n",
    "t = ts.utc(now.year, now.month, now.day, now.hour, now.minute, now.second)\n",
    "\n",
    "# Create a list of celestial bodies to plot (e.g., Sun, Moon, Venus, Mars)\n",
    "bodies = ['sun', 'moon', 'venus', 'mars']  # Lowercase names\n",
    "\n",
    "# Initialize arrays to store the altitude and azimuth of each body\n",
    "altitudes = []\n",
    "azimuths = []\n",
    "\n",
    "# Compute the altitude and azimuth for each celestial body\n",
    "for body_name in bodies:\n",
    "    body = eph[body_name]\n",
    "    astrometric = (body - observer_location).at(t)\n",
    "    alt, az, d = astrometric.altaz()\n",
    "    altitudes.append(alt.degrees)\n",
    "    azimuths.append(az.degrees)\n",
    "\n",
    "# Create a polar plot to display the positions of celestial bodies\n",
    "plt.figure(figsize=(8, 8))\n",
    "ax = plt.subplot(111, polar=True)\n",
    "ax.set_theta_offset(np.pi / 2)\n",
    "ax.set_theta_direction(-1)\n",
    "ax.set_rlabel_position(90)\n",
    "\n",
    "# Plot the positions of celestial bodies on the polar plot\n",
    "for i, body_name in enumerate(bodies):\n",
    "    ax.plot(np.radians(azimuths[i]), 90 - altitudes[i], label=body_name.capitalize())\n",
    "\n",
    "ax.legend(loc='upper left', bbox_to_anchor=(1.05, 1))\n",
    "\n",
    "# Set the title and show the plot\n",
    "plt.title(f\"Celestial Bodies from {observer_latitude}°N, {observer_longitude}°E on {now}\")\n",
    "plt.show()\n"
   ]
  }
 ],
 "metadata": {
  "kernelspec": {
   "display_name": "Python 3",
   "language": "python",
   "name": "python3"
  },
  "language_info": {
   "codemirror_mode": {
    "name": "ipython",
    "version": 3
   },
   "file_extension": ".py",
   "mimetype": "text/x-python",
   "name": "python",
   "nbconvert_exporter": "python",
   "pygments_lexer": "ipython3",
   "version": "3.11.5"
  },
  "orig_nbformat": 4
 },
 "nbformat": 4,
 "nbformat_minor": 2
}
