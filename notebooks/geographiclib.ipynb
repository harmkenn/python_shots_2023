{
 "cells": [
  {
   "cell_type": "code",
   "execution_count": 9,
   "metadata": {},
   "outputs": [
    {
     "name": "stdout",
     "output_type": "stream",
     "text": [
      "Computed Observer's Location (MGRS): (-505654.8085682442, -44.85461104625133)\n"
     ]
    }
   ],
   "source": [
    "import math\n",
    "from geographiclib.geodesic import Geodesic\n",
    "import pyproj\n",
    "\n",
    "# Define the observed altitude and azimuth of the Sun\n",
    "observed_altitude = 45  # in degrees\n",
    "observed_azimuth = 190  # in degrees\n",
    "\n",
    "# Define the ellipsoid parameters (WGS84 is commonly used)\n",
    "a = 6378137  # semi-major axis of the ellipsoid\n",
    "f = 1 / 298.257223563  # flattening of the ellipsoid\n",
    "\n",
    "# Create a Geodesic object with the ellipsoid parameters\n",
    "geod = Geodesic(a, f)\n",
    "\n",
    "# Compute the observer's location based on the observed altitude and azimuth\n",
    "result = geod.Direct(0, 0, observed_azimuth, observed_altitude)\n",
    "\n",
    "# Extract the latitude and longitude of the observer\n",
    "observer_latitude = result['lat2']\n",
    "observer_longitude = result['lon2']\n",
    "\n",
    "# Convert the observer's location to MGRS using pyproj\n",
    "crs_wgs84 = pyproj.CRS.from_string(\"+proj=longlat +datum=WGS84 +no_defs\")\n",
    "crs_mgrs = pyproj.CRS.from_string(\"+proj=utm +zone=32 +datum=WGS84 +units=m +no_defs\")  # Example UTM zone, adjust as needed\n",
    "transformer = pyproj.Transformer.from_crs(crs_wgs84, crs_mgrs, always_xy=True)\n",
    "mgrs = transformer.transform(observer_longitude, observer_latitude)\n",
    "\n",
    "# Print the computed observer's location in MGRS format\n",
    "print(\"Computed Observer's Location (MGRS):\", mgrs)\n"
   ]
  },
  {
   "cell_type": "code",
   "execution_count": 13,
   "metadata": {},
   "outputs": [
    {
     "ename": "CRSError",
     "evalue": "Invalid projection: +proj=mgrs +datum=WGS84 +units=m +no_defs +type=crs: (Internal Proj Error: proj_create: Error 1027 (Invalid value for an argument): Unknown projection)",
     "output_type": "error",
     "traceback": [
      "\u001b[1;31m---------------------------------------------------------------------------\u001b[0m",
      "\u001b[1;31mCRSError\u001b[0m                                  Traceback (most recent call last)",
      "Cell \u001b[1;32mIn[13], line 13\u001b[0m\n\u001b[0;32m     11\u001b[0m \u001b[39m# Convert UTM coordinates to MGRS using pyproj\u001b[39;00m\n\u001b[0;32m     12\u001b[0m crs_utm \u001b[39m=\u001b[39m pyproj\u001b[39m.\u001b[39mCRS\u001b[39m.\u001b[39mfrom_string(\u001b[39mf\u001b[39m\u001b[39m\"\u001b[39m\u001b[39m+proj=utm +zone=\u001b[39m\u001b[39m{\u001b[39;00mutm_zone_number\u001b[39m}\u001b[39;00m\u001b[39m +datum=WGS84 +units=m +no_defs\u001b[39m\u001b[39m\"\u001b[39m)\n\u001b[1;32m---> 13\u001b[0m crs_mgrs \u001b[39m=\u001b[39m pyproj\u001b[39m.\u001b[39;49mCRS\u001b[39m.\u001b[39;49mfrom_string(\u001b[39m\"\u001b[39;49m\u001b[39m+proj=mgrs +datum=WGS84 +units=m +no_defs\u001b[39;49m\u001b[39m\"\u001b[39;49m)\n\u001b[0;32m     14\u001b[0m transformer \u001b[39m=\u001b[39m pyproj\u001b[39m.\u001b[39mTransformer\u001b[39m.\u001b[39mfrom_crs(crs_utm, crs_mgrs, always_xy\u001b[39m=\u001b[39m\u001b[39mTrue\u001b[39;00m)\n\u001b[0;32m     15\u001b[0m mgrs \u001b[39m=\u001b[39m transformer\u001b[39m.\u001b[39mtransform(utm_easting, utm_northing)\n",
      "File \u001b[1;32mc:\\Users\\harmk\\AppData\\Local\\Programs\\Python\\Python311\\Lib\\site-packages\\pyproj\\crs\\crs.py:454\u001b[0m, in \u001b[0;36mCRS.from_string\u001b[1;34m(cls, in_crs_string)\u001b[0m\n\u001b[0;32m    434\u001b[0m \u001b[39m@classmethod\u001b[39m\n\u001b[0;32m    435\u001b[0m \u001b[39mdef\u001b[39;00m \u001b[39mfrom_string\u001b[39m(\u001b[39mcls\u001b[39m, in_crs_string: \u001b[39mstr\u001b[39m) \u001b[39m-\u001b[39m\u001b[39m>\u001b[39m \u001b[39m\"\u001b[39m\u001b[39mCRS\u001b[39m\u001b[39m\"\u001b[39m:\n\u001b[0;32m    436\u001b[0m \u001b[39m    \u001b[39m\u001b[39m\"\"\"\u001b[39;00m\n\u001b[0;32m    437\u001b[0m \u001b[39m    Make a CRS from:\u001b[39;00m\n\u001b[0;32m    438\u001b[0m \n\u001b[1;32m   (...)\u001b[0m\n\u001b[0;32m    452\u001b[0m \u001b[39m    CRS\u001b[39;00m\n\u001b[0;32m    453\u001b[0m \u001b[39m    \"\"\"\u001b[39;00m\n\u001b[1;32m--> 454\u001b[0m     \u001b[39mreturn\u001b[39;00m \u001b[39mcls\u001b[39;49m\u001b[39m.\u001b[39;49mfrom_user_input(_prepare_from_string(in_crs_string))\n",
      "File \u001b[1;32mc:\\Users\\harmk\\AppData\\Local\\Programs\\Python\\Python311\\Lib\\site-packages\\pyproj\\crs\\crs.py:501\u001b[0m, in \u001b[0;36mCRS.from_user_input\u001b[1;34m(cls, value, **kwargs)\u001b[0m\n\u001b[0;32m    499\u001b[0m \u001b[39mif\u001b[39;00m \u001b[39misinstance\u001b[39m(value, \u001b[39mcls\u001b[39m):\n\u001b[0;32m    500\u001b[0m     \u001b[39mreturn\u001b[39;00m value\n\u001b[1;32m--> 501\u001b[0m \u001b[39mreturn\u001b[39;00m \u001b[39mcls\u001b[39;49m(value, \u001b[39m*\u001b[39;49m\u001b[39m*\u001b[39;49mkwargs)\n",
      "File \u001b[1;32mc:\\Users\\harmk\\AppData\\Local\\Programs\\Python\\Python311\\Lib\\site-packages\\pyproj\\crs\\crs.py:348\u001b[0m, in \u001b[0;36mCRS.__init__\u001b[1;34m(self, projparams, **kwargs)\u001b[0m\n\u001b[0;32m    346\u001b[0m     \u001b[39mself\u001b[39m\u001b[39m.\u001b[39m_local\u001b[39m.\u001b[39mcrs \u001b[39m=\u001b[39m projparams\n\u001b[0;32m    347\u001b[0m \u001b[39melse\u001b[39;00m:\n\u001b[1;32m--> 348\u001b[0m     \u001b[39mself\u001b[39m\u001b[39m.\u001b[39m_local\u001b[39m.\u001b[39mcrs \u001b[39m=\u001b[39m _CRS(\u001b[39mself\u001b[39;49m\u001b[39m.\u001b[39;49msrs)\n",
      "File \u001b[1;32mc:\\Users\\harmk\\AppData\\Local\\Programs\\Python\\Python311\\Lib\\site-packages\\pyproj\\_crs.pyx:2378\u001b[0m, in \u001b[0;36mpyproj._crs._CRS.__init__\u001b[1;34m()\u001b[0m\n",
      "\u001b[1;31mCRSError\u001b[0m: Invalid projection: +proj=mgrs +datum=WGS84 +units=m +no_defs +type=crs: (Internal Proj Error: proj_create: Error 1027 (Invalid value for an argument): Unknown projection)"
     ]
    }
   ],
   "source": [
    "import utm\n",
    "import pyproj\n",
    "\n",
    "# Define the observed latitude and longitude of the observer\n",
    "observed_latitude = 37.7749\n",
    "observed_longitude = -122.4194\n",
    "\n",
    "# Convert latitude and longitude to UTM coordinates\n",
    "utm_easting, utm_northing, utm_zone_number, utm_zone_letter = utm.from_latlon(observed_latitude, observed_longitude)\n",
    "\n",
    "# Convert UTM coordinates to MGRS using pyproj\n",
    "crs_utm = pyproj.CRS.from_string(f\"+proj=utm +zone={utm_zone_number} +datum=WGS84 +units=m +no_defs\")\n",
    "crs_mgrs = pyproj.CRS.from_string(\"+proj=mgrs +datum=WGS84 +units=m +no_defs\")\n",
    "transformer = pyproj.Transformer.from_crs(crs_utm, crs_mgrs, always_xy=True)\n",
    "mgrs = transformer.transform(utm_easting, utm_northing)\n",
    "\n",
    "# Print the computed observer's location in MGRS format\n",
    "print(\"Computed Observer's Location (MGRS):\", mgrs)\n"
   ]
  }
 ],
 "metadata": {
  "kernelspec": {
   "display_name": "Python 3",
   "language": "python",
   "name": "python3"
  },
  "language_info": {
   "codemirror_mode": {
    "name": "ipython",
    "version": 3
   },
   "file_extension": ".py",
   "mimetype": "text/x-python",
   "name": "python",
   "nbconvert_exporter": "python",
   "pygments_lexer": "ipython3",
   "version": "3.11.4"
  },
  "orig_nbformat": 4
 },
 "nbformat": 4,
 "nbformat_minor": 2
}
