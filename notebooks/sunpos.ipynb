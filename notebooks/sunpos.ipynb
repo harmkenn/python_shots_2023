{
 "cells": [
  {
   "cell_type": "code",
   "execution_count": 5,
   "metadata": {},
   "outputs": [
    {
     "name": "stdout",
     "output_type": "stream",
     "text": [
      "\n",
      "When:  (2022, 12, 14, 0, 0, 0, 0)\n",
      "Where:  (35.6544, 139.7447)\n",
      "Azimuth:  141.97\n",
      "Elevation:  20.66\n"
     ]
    }
   ],
   "source": [
    "# sunpos.py\n",
    "import math\n",
    "def sunpos(when, location, refraction):\n",
    "# Extract the passed data\n",
    "    year, month, day, hour, minute, second, timezone = when\n",
    "    latitude, longitude = location\n",
    "# Math typing shortcuts\n",
    "    rad, deg = math.radians, math.degrees\n",
    "    sin, cos, tan = math.sin, math.cos, math.tan\n",
    "    asin, atan2 = math.asin, math.atan2\n",
    "# Convert latitude and longitude to radians\n",
    "    rlat = rad(latitude)\n",
    "    rlon = rad(longitude)\n",
    "# Decimal hour of the day at Greenwich\n",
    "    greenwichtime = hour - timezone + minute / 60 + second / 3600\n",
    "# Days from J2000, accurate from 1901 to 2099\n",
    "    daynum = (\n",
    "        367 * year\n",
    "        - 7 * (year + (month + 9) // 12) // 4\n",
    "        + 275 * month // 9\n",
    "        + day\n",
    "        - 730531.5\n",
    "        + greenwichtime / 24\n",
    "    )\n",
    "# Mean longitude of the sun\n",
    "    mean_long = daynum * 0.01720279239 + 4.894967873\n",
    "# Mean anomaly of the Sun\n",
    "    mean_anom = daynum * 0.01720197034 + 6.240040768\n",
    "# Ecliptic longitude of the sun\n",
    "    eclip_long = (\n",
    "        mean_long\n",
    "        + 0.03342305518 * sin(mean_anom)\n",
    "        + 0.0003490658504 * sin(2 * mean_anom)\n",
    "    )\n",
    "# Obliquity of the ecliptic\n",
    "    obliquity = 0.4090877234 - 0.000000006981317008 * daynum\n",
    "# Right ascension of the sun\n",
    "    rasc = atan2(cos(obliquity) * sin(eclip_long), cos(eclip_long))\n",
    "# Declination of the sun\n",
    "    decl = asin(sin(obliquity) * sin(eclip_long))\n",
    "# Local sidereal time\n",
    "    sidereal = 4.894961213 + 6.300388099 * daynum + rlon\n",
    "# Hour angle of the sun\n",
    "    hour_ang = sidereal - rasc\n",
    "# Local elevation of the sun\n",
    "    elevation = asin(sin(decl) * sin(rlat) + cos(decl) * cos(rlat) * cos(hour_ang))\n",
    "# Local azimuth of the sun\n",
    "    azimuth = atan2(\n",
    "        -cos(decl) * cos(rlat) * sin(hour_ang),\n",
    "        sin(decl) - sin(rlat) * sin(elevation),\n",
    "    )\n",
    "# Convert azimuth and elevation to degrees\n",
    "    azimuth = into_range(deg(azimuth), 0, 360)\n",
    "    elevation = into_range(deg(elevation), -180, 180)\n",
    "# Refraction correction (optional)\n",
    "    if refraction:\n",
    "        targ = rad((elevation + (10.3 / (elevation + 5.11))))\n",
    "        elevation += (1.02 / tan(targ)) / 60\n",
    "# Return azimuth and elevation in degrees\n",
    "    return (round(azimuth, 2), round(elevation, 2))\n",
    "def into_range(x, range_min, range_max):\n",
    "    shiftedx = x - range_min\n",
    "    delta = range_max - range_min\n",
    "    return (((shiftedx % delta) + delta) % delta) + range_min\n",
    "if __name__ == \"__main__\":\n",
    "# Close Encounters latitude, longitude\n",
    "    location = (35.6544,139.7447)\n",
    "# Fourth of July, 2022 at 11:20 am (-6 hours)\n",
    "    when = (2022, 12, 14, 00, 0, 0, 0)\n",
    "# Get the Sun's apparent location in the sky\n",
    "    azimuth, elevation = sunpos(when, location, True)\n",
    "# Output the results\n",
    "    print(\"\\nWhen: \", when)\n",
    "    print(\"Where: \", location)\n",
    "    print(\"Azimuth: \", azimuth)\n",
    "    print(\"Elevation: \", elevation)\n",
    "# When:  (2022, 7, 4, 11, 20, 0, -6)\n",
    "# Where:  (40.602778, -104.741667)\n",
    "# Azimuth:  121.38\n",
    "# Elevation:  61.91"
   ]
  },
  {
   "cell_type": "code",
   "execution_count": 6,
   "metadata": {},
   "outputs": [
    {
     "data": {
      "text/plain": [
       "[-23.230095, -54.823556]"
      ]
     },
     "execution_count": 6,
     "metadata": {},
     "output_type": "execute_result"
    }
   ],
   "source": [
    "import math\n",
    "\n",
    "pi = math.pi\n",
    "atan2 = math.atan2\n",
    "cos = math.cos\n",
    "sin = math.sin\n",
    "asin = math.asin\n",
    "degrees = math.degrees\n",
    "\n",
    "def subsolar(utc):\n",
    "    ye, mo, da, ho, mi, se = utc\n",
    "    ta = pi * 2\n",
    "    ut = ho + mi / 60 + se / 3600\n",
    "    t = 367 * ye - 7 * (ye + (mo + 9) // 12) // 4\n",
    "    dn = t + 275 * mo // 9 + da - 730531.5 + ut / 24\n",
    "    sl = dn * 0.01720279239 + 4.894967873\n",
    "    sa = dn * 0.01720197034 + 6.240040768\n",
    "    t = sl + 0.03342305518 * sin(sa)\n",
    "    ec = t + 0.0003490658504 * sin(2 * sa)\n",
    "    ob = 0.4090877234 - 0.000000006981317008 * dn\n",
    "    st = 4.894961213 + 6.300388099 * dn\n",
    "    ra = atan2(cos(ob) * sin(ec), cos(ec))\n",
    "    de = asin(sin(ob) * sin(ec))\n",
    "    la = degrees(de)\n",
    "    lo = degrees(ra - st) % 360\n",
    "    lo = lo - 360 if lo > 180 else lo\n",
    "    return [round(la, 6), round(lo, 6)]\n",
    "\n",
    "subsolar([2022,12,14,15,34,0])"
   ]
  }
 ],
 "metadata": {
  "kernelspec": {
   "display_name": "Python 3",
   "language": "python",
   "name": "python3"
  },
  "language_info": {
   "codemirror_mode": {
    "name": "ipython",
    "version": 3
   },
   "file_extension": ".py",
   "mimetype": "text/x-python",
   "name": "python",
   "nbconvert_exporter": "python",
   "pygments_lexer": "ipython3",
   "version": "3.10.7"
  },
  "orig_nbformat": 4,
  "vscode": {
   "interpreter": {
    "hash": "f627b94a91bc915482d65575b2ea77ee7c3710ea9aacf075a668e3021bd93680"
   }
  }
 },
 "nbformat": 4,
 "nbformat_minor": 2
}
