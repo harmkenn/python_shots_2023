{
 "cells": [
  {
   "cell_type": "markdown",
   "metadata": {},
   "source": [
    "Yes, another Python package that can compute the location of the observer given the altitude and azimuth of the Sun is ephem. The ephem package is a powerful astronomy library that provides various astronomical calculations, including the position of celestial bodies.\n",
    "\n",
    "Here's an example of how you can use the ephem package to compute the observer's location based on the altitude and azimuth of the Sun:"
   ]
  },
  {
   "cell_type": "code",
   "execution_count": 1,
   "metadata": {},
   "outputs": [
    {
     "name": "stdout",
     "output_type": "stream",
     "text": [
      "Computed Observer's Latitude: 67.8365493710477\n",
      "Computed Observer's Longitude: 349.088222308449\n"
     ]
    }
   ],
   "source": [
    "import ephem\n",
    "import math\n",
    "\n",
    "# Define the observed altitude and azimuth of the Sun\n",
    "observed_altitude = math.radians(45.0/180*math.pi)  # in radians\n",
    "observed_azimuth = math.radians(190.0/180*math.pi)  # in radians\n",
    "\n",
    "# Create an Observer object\n",
    "observer = ephem.Observer()\n",
    "observer.lat = '0'  # Set observer's latitude (in this case, 0 degrees)\n",
    "observer.lon = '0'  # Set observer's longitude (in this case, 0 degrees)\n",
    "observer.elev = 0  # Set observer's elevation (in this case, sea level)\n",
    "observer.date = ephem.now()  # Set the current date and time\n",
    "\n",
    "# Compute the observer's location based on the observed altitude and azimuth of the Sun\n",
    "sun = ephem.Sun()\n",
    "sun_altitude = observed_altitude\n",
    "sun_azimuth = observed_azimuth\n",
    "sun.compute(observer)\n",
    "sun_altitude_diff = sun.alt - sun_altitude\n",
    "sun_azimuth_diff = sun.az - sun_azimuth\n",
    "\n",
    "# Update the observer's position based on the computed differences\n",
    "observer.lat += sun_altitude_diff\n",
    "observer.lon += sun_azimuth_diff\n",
    "\n",
    "# Extract the observer's latitude and longitude\n",
    "observer_latitude = math.degrees(observer.lat)\n",
    "observer_longitude = math.degrees(observer.lon)\n",
    "\n",
    "# Print the computed observer's location\n",
    "print(\"Computed Observer's Latitude:\", observer_latitude)\n",
    "print(\"Computed Observer's Longitude:\", observer_longitude)\n"
   ]
  },
  {
   "cell_type": "code",
   "execution_count": 12,
   "metadata": {},
   "outputs": [
    {
     "name": "stdout",
     "output_type": "stream",
     "text": [
      "<ephem.Observer date='2023/7/17 13:12:33' epoch='2000/1/1 12:00:00' lon='0:00:00.0' lat='0:00:00.0' elevation=0.0m horizon=0:00:00.0 temp=15.0C pressure=1010.0mBar>\n",
      "Computed Sun's Azimuth: 323.61266898828995\n",
      "Computed Sun's Altitude: 63.33957485300566\n"
     ]
    }
   ],
   "source": [
    "import ephem\n",
    "\n",
    "# Create an Observer object\n",
    "observer = ephem.Observer()\n",
    "\n",
    "# Set the observer's location (latitude and longitude)\n",
    "observer.lat = '0'  # Example latitude (London, United Kingdom)\n",
    "observer.lon = '0'  # Example longitude (London, United Kingdom)\n",
    "\n",
    "# Set the date and time for the observation\n",
    "observer.date = ephem.now()  # Current date and time\n",
    "\n",
    "# Compute the position of the Sun\n",
    "sun = ephem.Sun()\n",
    "sun.compute(observer)\n",
    "\n",
    "# Get the computed azimuth and altitude of the Sun\n",
    "sun_azimuth = float(sun.az)*180/math.pi\n",
    "sun_altitude = float(sun.alt)*180/math.pi\n",
    "\n",
    "# Print the computed location of the Sun\n",
    "print(\"Computed Sun's Azimuth:\", sun_azimuth)\n",
    "print(\"Computed Sun's Altitude:\", sun_altitude)\n"
   ]
  },
  {
   "cell_type": "code",
   "execution_count": 10,
   "metadata": {},
   "outputs": [
    {
     "name": "stdout",
     "output_type": "stream",
     "text": [
      "Computed Direction to Polaris (Azimuth): 359.06323591286707\n",
      "Computed Direction to Polaris (Altitude): 51.793027362977796\n"
     ]
    }
   ],
   "source": [
    "import ephem\n",
    "import math\n",
    "\n",
    "# Create an Observer object\n",
    "observer = ephem.Observer()\n",
    "\n",
    "# Set the observer's location (latitude and longitude)\n",
    "observer.lat = '51.5074'  # Example latitude (London, United Kingdom)\n",
    "observer.lon = '-0.1278'  # Example longitude (London, United Kingdom)\n",
    "\n",
    "# Set the date and time for the observation\n",
    "observer.date = ephem.now()  # Current date and time\n",
    "\n",
    "# Compute the position of Polaris (North Star)\n",
    "polaris = ephem.star('Polaris')\n",
    "polaris.compute(observer)\n",
    "\n",
    "# Get the computed azimuth and altitude of Polaris\n",
    "polaris_azimuth = math.degrees(polaris.az)\n",
    "polaris_altitude = math.degrees(polaris.alt)\n",
    "\n",
    "# Print the computed direction to Polaris\n",
    "print(\"Computed Direction to Polaris (Azimuth):\", polaris_azimuth)\n",
    "print(\"Computed Direction to Polaris (Altitude):\", polaris_altitude)\n"
   ]
  },
  {
   "cell_type": "code",
   "execution_count": 11,
   "metadata": {},
   "outputs": [
    {
     "name": "stdout",
     "output_type": "stream",
     "text": [
      "Computed Observer's Latitude: 160.5532443148325\n",
      "Computed Observer's Longitude: 37.892418550561835\n"
     ]
    }
   ],
   "source": [
    "import ephem\n",
    "import math\n",
    "\n",
    "# Define the observed azimuth and altitude of Polaris\n",
    "observed_azimuth = math.radians(45.0)  # in radians\n",
    "observed_altitude = math.radians(30.0)  # in radians\n",
    "\n",
    "# Create an Observer object\n",
    "observer = ephem.Observer()\n",
    "\n",
    "# Set the date and time for the observation\n",
    "observer.date = ephem.now()  # Current date and time\n",
    "\n",
    "# Compute the observer's location based on the observed azimuth and altitude of Polaris\n",
    "polaris = ephem.star('Polaris')\n",
    "polaris_azimuth = observed_azimuth\n",
    "polaris_altitude = observed_altitude\n",
    "observer.lat, observer.lon = observer.radec_of(polaris_azimuth, polaris_altitude)\n",
    "\n",
    "# Extract the observer's latitude and longitude\n",
    "observer_latitude = math.degrees(observer.lat)\n",
    "observer_longitude = math.degrees(observer.lon)\n",
    "\n",
    "# Print the computed observer's location\n",
    "print(\"Computed Observer's Latitude:\", observer_latitude)\n",
    "print(\"Computed Observer's Longitude:\", observer_longitude)\n"
   ]
  },
  {
   "cell_type": "markdown",
   "metadata": {},
   "source": [
    "Here are some of the celestial bodies and phenomena that ephem can work with:\n",
    "\n",
    "Sun: The ephem.Sun class represents the Sun and allows you to compute its position, rise and set times, azimuth, altitude, and other related properties.\n",
    "\n",
    "Moon: The ephem.Moon class represents the Moon and provides information about its position, phase, rise and set times, azimuth, altitude, and more.\n",
    "\n",
    "Planets: ephem includes classes for the major planets of our solar system, such as ephem.Mercury, ephem.Venus, ephem.Mars, ephem.Jupiter, ephem.Saturn, ephem.Uranus, and ephem.Neptune. These classes allow you to compute the positions, rise and set times, azimuth, altitude, and other properties of each planet.\n",
    "\n",
    "Stars and Constellations: ephem can compute the positions and properties of individual stars using the ephem.star class. It also includes a ephem.readdb() function to read star catalogs. However, it does not have built-in support for constellations as predefined entities."
   ]
  },
  {
   "cell_type": "markdown",
   "metadata": {},
   "source": [
    "Here's an example of how you can use the ephem package to find the sub-solar point:"
   ]
  },
  {
   "cell_type": "code",
   "execution_count": 16,
   "metadata": {},
   "outputs": [
    {
     "name": "stdout",
     "output_type": "stream",
     "text": [
      "2023/7/15 12:28:01\n",
      "Computed Sub-Solar Latitude: 21.514452912824364\n",
      "Computed Sub-Solar Longitude: 114.60074742945241\n"
     ]
    }
   ],
   "source": [
    "import ephem\n",
    "\n",
    "# Create an Observer object\n",
    "observer = ephem.Observer()\n",
    "\n",
    "# Set the date and time for the observation\n",
    "observer.date = ephem.now()  # Current date and time\n",
    "print(observer.date)\n",
    "\n",
    "# Compute the position of the Sun\n",
    "sun = ephem.Sun()\n",
    "sun.compute(observer)\n",
    "\n",
    "# Get the sub-solar point coordinates\n",
    "sub_solar_latitude = float(sun.dec)*180/math.pi\n",
    "sub_solar_longitude = float(sun.ra)*180/math.pi\n",
    "\n",
    "# Print the computed sub-solar point\n",
    "print(\"Computed Sub-Solar Latitude:\", sub_solar_latitude)\n",
    "print(\"Computed Sub-Solar Longitude:\", sub_solar_longitude)\n"
   ]
  },
  {
   "cell_type": "code",
   "execution_count": 39,
   "metadata": {},
   "outputs": [
    {
     "name": "stdout",
     "output_type": "stream",
     "text": [
      "Computed Sub-Solar Latitude: 21.513417300786468\n",
      "Computed Sub-Solar Longitude: -7.792755142228581\n"
     ]
    }
   ],
   "source": [
    "import ephem\n",
    "\n",
    "# Create an Observer object\n",
    "observer = ephem.Observer()\n",
    "\n",
    "# Set the date and time for the observation\n",
    "observer.date = ephem.now()  # Current date and time\n",
    "\n",
    "# Compute the position of the Sun\n",
    "sun = ephem.Sun()\n",
    "sun.compute(observer)\n",
    "\n",
    "# Get the sub-solar point coordinates\n",
    "sub_solar_latitude = math.degrees(sun.dec)\n",
    "sub_solar_longitude = math.degrees(sun.ra) - 180.0 + 58 - .4\n",
    "\n",
    "# Print the computed sub-solar point\n",
    "print(\"Computed Sub-Solar Latitude:\", sub_solar_latitude)\n",
    "print(\"Computed Sub-Solar Longitude:\", sub_solar_longitude)\n"
   ]
  },
  {
   "cell_type": "code",
   "execution_count": 41,
   "metadata": {},
   "outputs": [
    {
     "name": "stdout",
     "output_type": "stream",
     "text": [
      "Computed Sub-Lunar Latitude: -0.004374053794890642\n",
      "Computed Sub-Lunar Longitude: -178.90472090244293\n"
     ]
    }
   ],
   "source": [
    "import ephem\n",
    "\n",
    "# Create an Observer object\n",
    "observer = ephem.Observer()\n",
    "\n",
    "# Set the date and time for the observation\n",
    "observer.date = ephem.now()  # Current date and time\n",
    "\n",
    "# Compute the previous rising of the Moon\n",
    "moon = ephem.Moon()\n",
    "prev_rising = observer.previous_rising(moon)\n",
    "\n",
    "# Set the observer's date and time to the previous rising\n",
    "observer.date = prev_rising\n",
    "\n",
    "# Compute the position of the Moon\n",
    "moon.compute(observer)\n",
    "\n",
    "# Get the latitude and longitude of the sub-lunar point\n",
    "sub_lunar_latitude = float(moon.alt)\n",
    "sub_lunar_longitude = float(moon.az) - 180.0\n",
    "\n",
    "# Print the computed sub-lunar point\n",
    "print(\"Computed Sub-Lunar Latitude:\", sub_lunar_latitude)\n",
    "print(\"Computed Sub-Lunar Longitude:\", sub_lunar_longitude)\n"
   ]
  },
  {
   "cell_type": "code",
   "execution_count": 2,
   "metadata": {},
   "outputs": [
    {
     "ename": "ModuleNotFoundError",
     "evalue": "No module named 'skyfield.position'",
     "output_type": "error",
     "traceback": [
      "\u001b[1;31m---------------------------------------------------------------------------\u001b[0m",
      "\u001b[1;31mModuleNotFoundError\u001b[0m                       Traceback (most recent call last)",
      "Cell \u001b[1;32mIn[2], line 1\u001b[0m\n\u001b[1;32m----> 1\u001b[0m \u001b[39mimport\u001b[39;00m \u001b[39mskyfield\u001b[39;00m\u001b[39m.\u001b[39;00m\u001b[39mposition\u001b[39;00m\n\u001b[0;32m      3\u001b[0m observer \u001b[39m=\u001b[39m skyfield\u001b[39m.\u001b[39mposition\u001b[39m.\u001b[39mObserver(\u001b[39m\"\u001b[39m\u001b[39m38.5763,-121.9240\u001b[39m\u001b[39m\"\u001b[39m)\n\u001b[0;32m      4\u001b[0m moon \u001b[39m=\u001b[39m skyfield\u001b[39m.\u001b[39mapi\u001b[39m.\u001b[39mMoon()\n",
      "\u001b[1;31mModuleNotFoundError\u001b[0m: No module named 'skyfield.position'"
     ]
    }
   ],
   "source": [
    "import skyfield.position\n",
    "\n",
    "observer = skyfield.position.Observer(\"38.5763,-121.9240\")\n",
    "moon = skyfield.api.Moon()\n",
    "\n",
    "# Calculate the position of the moon in equatorial coordinates.\n",
    "position = observer.at(moon.epoch).observe(moon)\n",
    "\n",
    "# Compute the sub-lunar point.\n",
    "sub_lunar_point = position.sub_point(moon)\n",
    "\n",
    "# Print the latitude and longitude of the sub-lunar point.\n",
    "print(sub_lunar_point.lat, sub_lunar_point.lon)\n"
   ]
  },
  {
   "cell_type": "code",
   "execution_count": 2,
   "metadata": {},
   "outputs": [
    {
     "data": {
      "image/png": "[encoded data removed]",
      "text/plain": [
       "<Figure size 640x480 with 1 Axes>"
      ]
     },
     "metadata": {},
     "output_type": "display_data"
    }
   ],
   "source": [
    "import numpy as np\n",
    "import matplotlib.pyplot as plt\n",
    "\n",
    "def plot_subsolar_point(observer_latitude, observer_longitude):\n",
    "  \"\"\"Plots the subsolar point and the observer's location.\"\"\"\n",
    "  # Calculate the coordinates of the subsolar point.\n",
    "  subsolar_latitude = 0\n",
    "  subsolar_longitude = observer_longitude\n",
    "  subsolar_coordinates = np.array([subsolar_latitude, subsolar_longitude, 0])\n",
    "\n",
    "  # Calculate the coordinates of the observer.\n",
    "  observer_coordinates = np.array([observer_latitude, observer_longitude, 0])\n",
    "\n",
    "  # Plot the subsolar point and the observer's location.\n",
    "  plt.plot([subsolar_coordinates[0], observer_coordinates[0]],\n",
    "           [subsolar_coordinates[1], observer_coordinates[1]],\n",
    "           color='red', linewidth=2)\n",
    "  plt.plot(observer_coordinates[0], observer_coordinates[1], 'o', color='blue')\n",
    "\n",
    "  # Add a title and labels to the axes.\n",
    "  plt.title('Subsolar Point and Observer Location')\n",
    "  plt.xlabel('Latitude')\n",
    "  plt.ylabel('Longitude')\n",
    "\n",
    "  # Show the plot.\n",
    "  plt.show()\n",
    "\n",
    "if __name__ == '__main__':\n",
    "  # Set the observer's latitude and longitude.\n",
    "  observer_latitude = 35.7\n",
    "  observer_longitude = -120.2\n",
    "\n",
    "  # Plot the subsolar point and the observer's location.\n",
    "  plot_subsolar_point(observer_latitude, observer_longitude)"
   ]
  },
  {
   "cell_type": "code",
   "execution_count": 1,
   "metadata": {},
   "outputs": [
    {
     "ename": "ModuleNotFoundError",
     "evalue": "No module named 'astropy_healpix.coordinates'",
     "output_type": "error",
     "traceback": [
      "\u001b[0;31m---------------------------------------------------------------------------\u001b[0m",
      "\u001b[0;31mModuleNotFoundError\u001b[0m                       Traceback (most recent call last)",
      "Cell \u001b[0;32mIn[1], line 3\u001b[0m\n\u001b[1;32m      1\u001b[0m \u001b[39mimport\u001b[39;00m \u001b[39mastropy\u001b[39;00m\u001b[39m.\u001b[39;00m\u001b[39mcoordinates\u001b[39;00m \u001b[39mas\u001b[39;00m \u001b[39mcoord\u001b[39;00m\n\u001b[1;32m      2\u001b[0m \u001b[39mimport\u001b[39;00m \u001b[39mastropy\u001b[39;00m\u001b[39m.\u001b[39;00m\u001b[39mtime\u001b[39;00m \u001b[39mas\u001b[39;00m \u001b[39mtime\u001b[39;00m\n\u001b[0;32m----> 3\u001b[0m \u001b[39mimport\u001b[39;00m \u001b[39mastropy_healpix\u001b[39;00m\u001b[39m.\u001b[39;00m\u001b[39mcoordinates\u001b[39;00m \u001b[39mas\u001b[39;00m \u001b[39mhpc\u001b[39;00m\n\u001b[1;32m      5\u001b[0m \u001b[39m# Set the current time.\u001b[39;00m\n\u001b[1;32m      6\u001b[0m t \u001b[39m=\u001b[39m time\u001b[39m.\u001b[39mTime\u001b[39m.\u001b[39mnow()\n",
      "\u001b[0;31mModuleNotFoundError\u001b[0m: No module named 'astropy_healpix.coordinates'"
     ]
    }
   ],
   "source": [
    "import astropy.coordinates as coord\n",
    "import astropy.time as time\n",
    "import astropy_healpix.coordinates as hpc\n",
    "\n",
    "# Set the current time.\n",
    "t = time.Time.now()\n",
    "\n",
    "# Create a `Geocentric` object for the Earth.\n",
    "earth = coord.EarthLocation(0, 0, 0)\n",
    "\n",
    "# Calculate the sub-lunar point.\n",
    "sub_lunar_point = hpc.sub_lunar_point(t, earth)\n",
    "\n",
    "# Print the sub-lunar point.\n",
    "print(sub_lunar_point)\n"
   ]
  }
 ],
 "metadata": {
  "kernelspec": {
   "display_name": "Python 3",
   "language": "python",
   "name": "python3"
  },
  "language_info": {
   "codemirror_mode": {
    "name": "ipython",
    "version": 3
   },
   "file_extension": ".py",
   "mimetype": "text/x-python",
   "name": "python",
   "nbconvert_exporter": "python",
   "pygments_lexer": "ipython3",
   "version": "3.11.1"
  },
  "orig_nbformat": 4
 },
 "nbformat": 4,
 "nbformat_minor": 2
}
