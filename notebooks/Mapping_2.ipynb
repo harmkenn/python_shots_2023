{
 "cells": [
  {
   "cell_type": "code",
   "execution_count": null,
   "metadata": {},
   "outputs": [],
   "source": [
    "# https://www.youtube.com/watch?v=t9Ed5QyO7qY&list=WL&index=2\n",
    "\n",
    "import folium\n",
    "from folium import plugins\n",
    "import ipywidgets\n",
    "import geocoder\n",
    "import geopy\n",
    "import numpy as np\n",
    "import pandas as pd\n",
    "from vega_datasets import data as vds"
   ]
  },
  {
   "cell_type": "code",
   "execution_count": null,
   "metadata": {},
   "outputs": [],
   "source": [
    "map1 = folium.Map(location=[39.739192, -104.990337], zoom_start=12, width=500, height=300, control_scale=True)\n",
    "map1"
   ]
  },
  {
   "cell_type": "code",
   "execution_count": null,
   "metadata": {},
   "outputs": [],
   "source": [
    "# show map types using layer control\n",
    "\n",
    "# map\n",
    "map_layer_control = folium.Map(location=[38, -98], zoom_start=2)\n",
    "\n",
    "# add tiles to map\n",
    "folium.raster_layers.TileLayer('Open Street Map').add_to(map_layer_control)\n",
    "folium.raster_layers.TileLayer('Stamen Terrain').add_to(map_layer_control)\n",
    "folium.raster_layers.TileLayer('Stamen Toner').add_to(map_layer_control)\n",
    "folium.raster_layers.TileLayer('Stamen Watercolor').add_to(map_layer_control)\n",
    "folium.raster_layers.TileLayer('CartoDB Positron').add_to(map_layer_control)\n",
    "folium.raster_layers.TileLayer('CartoDB Dark_Matter').add_to(map_layer_control)\n",
    "\n",
    "# add layer control to show different maps\n",
    "folium.LayerControl().add_to(map_layer_control)\n",
    "\n",
    "# display map\n",
    "map_layer_control"
   ]
  },
  {
   "cell_type": "code",
   "execution_count": null,
   "metadata": {},
   "outputs": [],
   "source": [
    "# mini map, scroll zoom toggle button, full screen\n",
    "\n",
    "# map\n",
    "map_with_mini = folium.Map(location=(39, -100), zoom_start=7)\n",
    "\n",
    "# plugin for mini map\n",
    "minimap = plugins.MiniMap(toggle_display=True)\n",
    "\n",
    "# add minimap to map\n",
    "map_with_mini.add_child(minimap)\n",
    "\n",
    "# add scroll zoom toggler to map\n",
    "plugins.ScrollZoomToggler().add_to(map_with_mini)\n",
    "\n",
    "# add full screen button to map\n",
    "plugins.Fullscreen(position='topright').add_to(map_with_mini)\n",
    "\n",
    "# display map\n",
    "map_with_mini"
   ]
  },
  {
   "cell_type": "code",
   "execution_count": null,
   "metadata": {},
   "outputs": [],
   "source": [
    "# geocode address and place marker on map\n",
    "\n",
    "\n",
    "\n",
    "# get location information for address\n",
    "address = geocoder.osm('2685 Glenwood Dr, Idaho Falls')\n",
    "\n",
    "# address latitude and longitude\n",
    "address_latlng = [address.lat, address.lng]\n",
    "\n",
    "# map\n",
    "map_zoo = folium.Map(location=[address.lat, address.lng], zoom_start=14)\n",
    "\n",
    "# add marker to map\n",
    "folium.Marker(address_latlng, popup='San Diego Zoo', tooltip='click').add_to(map_zoo)\n",
    "\n",
    "# display map\n",
    "map_zoo"
   ]
  },
  {
   "cell_type": "code",
   "execution_count": null,
   "metadata": {},
   "outputs": [],
   "source": [
    "# airports dataframe using vega_datasets\n",
    "airports = vds.airports()\n",
    "airports = airports[:25]\n",
    "airports.head()"
   ]
  },
  {
   "cell_type": "code",
   "execution_count": null,
   "metadata": {},
   "outputs": [],
   "source": [
    "# multiple markers using dataframe\n",
    "# there is an example below using apply function instead of loop\n",
    "\n",
    "# create map\n",
    "map_airports = folium.Map(location=[38, -98], zoom_start=4)\n",
    "\n",
    "# plot airport locations\n",
    "for (index, row) in airports.iterrows():\n",
    "    folium.Marker(location=[row.loc['latitude'], row.loc['longitude']], \n",
    "                  popup=row.loc['name'] + ' ' + row.loc['city'] + ' ' + row.loc['state'], \n",
    "                  tooltip='click').add_to(map_airports)\n",
    "    \n",
    "# display map    \n",
    "map_airports"
   ]
  },
  {
   "cell_type": "code",
   "execution_count": null,
   "metadata": {},
   "outputs": [],
   "source": [
    "for (index, row) in airports.iterrows():\n",
    "    # print(row.loc['name'])\n",
    "    # print(index,row['name'])\n",
    "    print(index,row)"
   ]
  },
  {
   "cell_type": "code",
   "execution_count": null,
   "metadata": {},
   "outputs": [],
   "source": [
    "# markers with apply function\n",
    "\n",
    "# map\n",
    "map_airports2 = folium.Map(location=[38, -98], zoom_start=4)\n",
    "\n",
    "# plot airport locations using apply\n",
    "airports.apply(lambda row: folium.Marker(location=[row['latitude'], row['longitude']],\n",
    "                                         popup=row['name']).add_to(map_airports2), axis=1)\n",
    "\n",
    "# display map\n",
    "map_airports2    "
   ]
  },
  {
   "cell_type": "code",
   "execution_count": null,
   "metadata": {},
   "outputs": [],
   "source": [
    "# multiple markers using dictionary\n",
    "\n",
    "markers_dict = {'Los Angeles': [34.041008, -118.246653], \n",
    "                'Las Vegas': [36.169726, -115.143996], \n",
    "                'Denver': [39.739448, -104.992450], \n",
    "                'Chicago': [41.878765, -87.643267], \n",
    "                'Manhattan': [40.782949, -73.969559]}\n",
    "\n",
    "# create map\n",
    "map_cities = folium.Map(location=[41, -99], zoom_start=4)\n",
    "\n",
    "# plot locations\n",
    "for i in markers_dict.items():\n",
    "    folium.Marker(location=i[1], popup=i[0]).add_to(map_cities)\n",
    "    print(i)\n",
    "\n",
    "# display map    \n",
    "map_cities"
   ]
  },
  {
   "cell_type": "code",
   "execution_count": null,
   "metadata": {},
   "outputs": [],
   "source": [
    "# search for 'font awesome' icons to see examples\n",
    "\n",
    "# map\n",
    "map_cm_fa = folium.Map(location=[38, -98], zoom_start=4)\n",
    "\n",
    "# add custom marker to map\n",
    "folium.Marker(location=[38, -98], \n",
    "              popup='popup', \n",
    "              icon=folium.Icon(color='green', icon='bolt', prefix='fa')).add_to(map_cm_fa)\n",
    "\n",
    "# display map\n",
    "map_cm_fa"
   ]
  },
  {
   "cell_type": "code",
   "execution_count": null,
   "metadata": {},
   "outputs": [],
   "source": [
    "# search for 'glyphicon bootstrap' icons to see examples\n",
    "\n",
    "# map\n",
    "map_cm_glyphicon = folium.Map(location=[38, -98], zoom_start=4)\n",
    "\n",
    "# add custom marker to map\n",
    "folium.Marker(location=[38, -98], \n",
    "              popup='popup', \n",
    "              icon=folium.Icon(icon='glyphicon-plane', prefix='glyphicon')).add_to(map_cm_glyphicon)\n",
    "\n",
    "# display map\n",
    "map_cm_glyphicon"
   ]
  },
  {
   "cell_type": "code",
   "execution_count": null,
   "metadata": {},
   "outputs": [],
   "source": [
    "# multiple custom markers\n",
    "\n",
    "# dataframe with custom marker names\n",
    "cm_df = pd.DataFrame({'city': ['Los Angeles', 'Las Vegas', 'Denver', 'Chicago', 'Manhattan'],\n",
    "                      'latitude': [34.041008, 36.169726, 39.739448, 41.878765, 40.782949],\n",
    "                      'longitude': [-118.246653, -115.143996, -104.992450, -87.643267, -73.969559],\n",
    "                      'icon': ['bicycle', 'car', 'bus', 'truck', 'motorcycle']})\n",
    "cm_df"
   ]
  },
  {
   "cell_type": "code",
   "execution_count": null,
   "metadata": {},
   "outputs": [],
   "source": [
    "# map\n",
    "map_cm_multiple = folium.Map(location=[38, -98], zoom_start=4)\n",
    "\n",
    "# add markers to map\n",
    "# for loop with itertuples (experiment that appears to work well)\n",
    "# can also use iterrows or dataframe apply\n",
    "for i in cm_df.itertuples():\n",
    "    folium.Marker(location=[i.latitude, i.longitude], \n",
    "                  popup=i.city,\n",
    "                  icon=folium.Icon(icon=i.icon, prefix='fa')).add_to(map_cm_multiple)\n",
    "\n",
    "# display map    \n",
    "map_cm_multiple"
   ]
  },
  {
   "cell_type": "code",
   "execution_count": null,
   "metadata": {},
   "outputs": [],
   "source": [
    "# enumerate markers\n",
    "\n",
    "# data\n",
    "cm_enum_df = pd.DataFrame({'city': ['Los Angeles', 'Las Vegas', 'Denver', 'Chicago', 'Manhattan'],\n",
    "                           'latitude': [34.041008, 36.169726, 39.739448, 41.878765, 40.782949],\n",
    "                           'longitude': [-118.246653, -115.143996, -104.992450, -87.643267, -73.969559],\n",
    "                           'icon_num': [1, 2, 3, 4, 5]})\n",
    "\n",
    "# map\n",
    "map_enum_icons = folium.Map([38, -98], zoom_start=4)\n",
    "\n",
    "# icons using plugins.BeautifyIcon\n",
    "for i in cm_enum_df.itertuples():\n",
    "    folium.Marker(location=[i.latitude, i.longitude],\n",
    "                  popup=i.city,\n",
    "                  icon=plugins.BeautifyIcon(number=i.icon_num,\n",
    "                                            border_color='blue',\n",
    "                                            border_width=1,\n",
    "                                            text_color='red',\n",
    "                                            inner_icon_style='margin-top:0px;')).add_to(map_enum_icons)\n",
    "\n",
    "# display map    \n",
    "map_enum_icons"
   ]
  },
  {
   "cell_type": "code",
   "execution_count": null,
   "metadata": {},
   "outputs": [],
   "source": [
    "# map\n",
    "map_circle = folium.Map(location=[38, -98], zoom_start=4)\n",
    "\n",
    "# radius of the circle in meters\n",
    "folium.Circle(radius=10000, location=[38, -98], color='green').add_to(map_circle)\n",
    "\n",
    "# circle of a fixed size with radius specified in pixels\n",
    "folium.CircleMarker(location=[39, -105], radius=25, color='blue', fill_color='yellow').add_to(map_circle)\n",
    "\n",
    "# display map\n",
    "map_circle"
   ]
  },
  {
   "cell_type": "code",
   "execution_count": 3,
   "metadata": {},
   "outputs": [
    {
     "name": "stdout",
     "output_type": "stream",
     "text": [
      "Nope\n",
      "Nope\n"
     ]
    }
   ],
   "source": [
    "from json import loads\n",
    "from time import sleep\n",
    "import requests\n",
    " \n",
    "locations=[(27.988056, 86.925278), (50.449561, 30.525366)] #(lat,lon) pairs\n",
    "for loc in locations: \n",
    "    try:\n",
    "        request = Request('https://maps.googleapis.com/maps/api/elevation/json?locations={0},{1}&key=INSERT_YOUR_KEY_HERE'.format(loc[0],loc[1]))\n",
    "        response = urlopen(request).read() \n",
    "        response\n",
    "    except:\n",
    "        print('Nope')"
   ]
  }
 ],
 "metadata": {
  "interpreter": {
   "hash": "c168bd907d9edf6e891a59be7f4ab8312caabe41970dca16a2465f9e936d4872"
  },
  "kernelspec": {
   "display_name": "Python 3.9.7 64-bit",
   "language": "python",
   "name": "python3"
  },
  "language_info": {
   "codemirror_mode": {
    "name": "ipython",
    "version": 3
   },
   "file_extension": ".py",
   "mimetype": "text/x-python",
   "name": "python",
   "nbconvert_exporter": "python",
   "pygments_lexer": "ipython3",
   "version": "3.9.7"
  },
  "orig_nbformat": 4
 },
 "nbformat": 4,
 "nbformat_minor": 2
}
