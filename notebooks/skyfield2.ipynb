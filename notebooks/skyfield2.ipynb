{
 "cells": [
  {
   "cell_type": "markdown",
   "metadata": {},
   "source": [
    "https://viyaleta.medium.com/how-to-make-a-sky-map-in-python-a362bf722bb2"
   ]
  },
  {
   "cell_type": "code",
   "execution_count": 17,
   "metadata": {},
   "outputs": [],
   "source": [
    "# datetime libraries\n",
    "from datetime import datetime\n",
    "from geopy import Nominatim\n",
    "from tzwhere import tzwhere\n",
    "from pytz import timezone, utc\n",
    "import numpy as np\n",
    "# matplotlib to help display our star map\n",
    "import matplotlib.pyplot as plt\n",
    "# skyfield for star data \n",
    "from skyfield.api import Star, load, wgs84\n",
    "from skyfield.data import hipparcos\n",
    "from skyfield.projections import build_stereographic_projection"
   ]
  },
  {
   "cell_type": "code",
   "execution_count": 2,
   "metadata": {},
   "outputs": [],
   "source": [
    "# de421 shows position of earth and sun in space\n",
    "eph = load('de421.bsp')\n",
    "# hipparcos dataset contains star location data\n",
    "with load.open(hipparcos.URL) as f:\n",
    "    stars = hipparcos.load_dataframe(f)"
   ]
  },
  {
   "cell_type": "code",
   "execution_count": 3,
   "metadata": {},
   "outputs": [],
   "source": [
    "location = 'Times Square, New York, NY'\n",
    "when = '2023-01-01 00:00'"
   ]
  },
  {
   "cell_type": "code",
   "execution_count": 5,
   "metadata": {},
   "outputs": [],
   "source": [
    "from geopy.geocoders import Nominatim\n",
    "\n",
    "def get_coordinates(city_name):\n",
    "    # Initialize the Nominatim geocoder\n",
    "    geolocator = Nominatim(user_agent=\"city_coordinates\")\n",
    "\n",
    "    try:\n",
    "        # Use the geocoder to get the location information\n",
    "        location = geolocator.geocode(city_name)\n",
    "\n",
    "        if location:\n",
    "            # Extract latitude and longitude\n",
    "            latitude = location.latitude\n",
    "            longitude = location.longitude\n",
    "            return latitude, longitude\n",
    "        else:\n",
    "            return None\n",
    "    except Exception as e:\n",
    "        print(\"Error:\", str(e))\n",
    "        return None\n"
   ]
  },
  {
   "cell_type": "code",
   "execution_count": 21,
   "metadata": {},
   "outputs": [],
   "source": [
    "locator = Nominatim(user_agent='myGeocoder')\n",
    "location = get_coordinates(location) \n",
    "lat = location[0]\n",
    "long = location[1]\n",
    "\n"
   ]
  },
  {
   "cell_type": "code",
   "execution_count": 25,
   "metadata": {},
   "outputs": [
    {
     "data": {
      "text/plain": [
       "[44.933143, 7.540121]"
      ]
     },
     "execution_count": 25,
     "metadata": {},
     "output_type": "execute_result"
    }
   ],
   "source": [
    "[lat,long]"
   ]
  },
  {
   "cell_type": "code",
   "execution_count": 28,
   "metadata": {},
   "outputs": [
    {
     "ename": "ValueError",
     "evalue": "setting an array element with a sequence. The requested array has an inhomogeneous shape after 2 dimensions. The detected shape was (1, 2) + inhomogeneous part.",
     "output_type": "error",
     "traceback": [
      "\u001b[0;31m---------------------------------------------------------------------------\u001b[0m",
      "\u001b[0;31mValueError\u001b[0m                                Traceback (most recent call last)",
      "Cell \u001b[0;32mIn[28], line 4\u001b[0m\n\u001b[1;32m      2\u001b[0m dt \u001b[39m=\u001b[39m datetime\u001b[39m.\u001b[39mstrptime(when, \u001b[39m'\u001b[39m\u001b[39m%\u001b[39m\u001b[39mY-\u001b[39m\u001b[39m%\u001b[39m\u001b[39mm-\u001b[39m\u001b[39m%d\u001b[39;00m\u001b[39m \u001b[39m\u001b[39m%\u001b[39m\u001b[39mH:\u001b[39m\u001b[39m%\u001b[39m\u001b[39mM\u001b[39m\u001b[39m'\u001b[39m)\n\u001b[1;32m      3\u001b[0m \u001b[39m# define datetime and convert to utc based on our timezone\u001b[39;00m\n\u001b[0;32m----> 4\u001b[0m timezone_str \u001b[39m=\u001b[39m tzwhere\u001b[39m.\u001b[39;49mtzwhere()\u001b[39m.\u001b[39mtzNameAt(\u001b[39m30\u001b[39m,\u001b[39m40\u001b[39m)\n\u001b[1;32m      5\u001b[0m local \u001b[39m=\u001b[39m timezone(timezone_str)\n\u001b[1;32m      6\u001b[0m \u001b[39m# get UTC from local timezone and datetime\u001b[39;00m\n",
      "File \u001b[0;32m/workspace/.pyenv_mirror/user/current/lib/python3.11/site-packages/tzwhere/tzwhere.py:62\u001b[0m, in \u001b[0;36mtzwhere.__init__\u001b[0;34m(self, forceTZ)\u001b[0m\n\u001b[1;32m     60\u001b[0m     \u001b[39mself\u001b[39m\u001b[39m.\u001b[39mtimezoneNamesToPolygons[tzname]\u001b[39m.\u001b[39mappend(poly)\n\u001b[1;32m     61\u001b[0m \u001b[39mfor\u001b[39;00m tzname, polys \u001b[39min\u001b[39;00m \u001b[39mself\u001b[39m\u001b[39m.\u001b[39mtimezoneNamesToPolygons\u001b[39m.\u001b[39mitems():\n\u001b[0;32m---> 62\u001b[0m     \u001b[39mself\u001b[39m\u001b[39m.\u001b[39mtimezoneNamesToPolygons[tzname] \u001b[39m=\u001b[39m WRAP(polys)\n\u001b[1;32m     64\u001b[0m     \u001b[39mif\u001b[39;00m forceTZ:\n\u001b[1;32m     65\u001b[0m         \u001b[39mself\u001b[39m\u001b[39m.\u001b[39munprepTimezoneNamesToPolygons[tzname] \u001b[39m=\u001b[39m WRAP(polys)\n",
      "\u001b[0;31mValueError\u001b[0m: setting an array element with a sequence. The requested array has an inhomogeneous shape after 2 dimensions. The detected shape was (1, 2) + inhomogeneous part."
     ]
    }
   ],
   "source": [
    "# convert date string into datetime object\n",
    "dt = datetime.strptime(when, '%Y-%m-%d %H:%M')\n",
    "# define datetime and convert to utc based on our timezone\n",
    "timezone_str = tzwhere.tzwhere().tzNameAt(30,40)\n",
    "local = timezone(timezone_str)\n",
    "# get UTC from local timezone and datetime\n",
    "local_dt = local.localize(dt, is_dst=None)\n",
    "utc_dt = local_dt.astimezone(utc)"
   ]
  }
 ],
 "metadata": {
  "kernelspec": {
   "display_name": "Python 3",
   "language": "python",
   "name": "python3"
  },
  "language_info": {
   "codemirror_mode": {
    "name": "ipython",
    "version": 3
   },
   "file_extension": ".py",
   "mimetype": "text/x-python",
   "name": "python",
   "nbconvert_exporter": "python",
   "pygments_lexer": "ipython3",
   "version": "3.11.5"
  },
  "orig_nbformat": 4
 },
 "nbformat": 4,
 "nbformat_minor": 2
}
