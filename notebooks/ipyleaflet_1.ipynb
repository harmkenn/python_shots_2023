{
 "cells": [
  {
   "cell_type": "code",
   "execution_count": null,
   "metadata": {},
   "outputs": [],
   "source": [
    "from IPython.display import IFrame\n",
    "documentation = IFrame(src='https://ipyleaflet.readthedocs.io/en/latest/', width=1000, height=600)\n",
    "display(documentation)"
   ]
  },
  {
   "cell_type": "code",
   "execution_count": null,
   "metadata": {},
   "outputs": [],
   "source": [
    "# imports\n",
    "import ipyleaflet\n",
    "from ipyleaflet import Map\n",
    "\n",
    "# create map\n",
    "# basic_map = ipyleaflet.Map(zoom=1)\n",
    "basic_map = Map(zoom=4)\n",
    "\n",
    "# display map\n",
    "# basic_map\n",
    "display(basic_map)\n"
   ]
  },
  {
   "cell_type": "code",
   "execution_count": null,
   "metadata": {},
   "outputs": [],
   "source": [
    "# I have yet to find a comprehensive list of map types, however, below are several examples\n",
    "\n",
    "import ipyleaflet\n",
    "import ipywidgets\n",
    "from ipyleaflet import basemaps, Map\n",
    "\n",
    "radio_button = ipywidgets.RadioButtons(options=['Positron', 'DarkMatter', 'WorldStreetMap', 'DeLorme', \n",
    "                                                'WorldTopoMap', 'WorldImagery', 'NatGeoWorldMap', 'HikeBike', \n",
    "                                                'HyddaFull', 'Night', 'ModisTerra', 'Mapnik', 'HOT', 'OpenTopoMap', \n",
    "                                                'Toner', 'Watercolor'],\n",
    "                                       value='Positron', \n",
    "                                       description='map types:')\n",
    "\n",
    "def toggle_maps(map):\n",
    "    if map == 'Positron': m = Map(zoom=2, basemap=basemaps.CartoDB.Positron)\n",
    "    if map == 'DarkMatter': m = Map(zoom=1, basemap=basemaps.CartoDB.DarkMatter)\n",
    "    if map == 'WorldStreetMap': m = Map(center=(40.67, -73.94), zoom=10, basemap=basemaps.Esri.WorldStreetMap)\n",
    "    if map == 'DeLorme': m = Map(center=(40, -99), zoom=4, basemap=basemaps.Esri.DeLorme)\n",
    "    if map == 'WorldTopoMap': m = Map(center=(40, -99), zoom=4, basemap=basemaps.Esri.WorldTopoMap)\n",
    "    if map == 'WorldImagery': m = Map(center=(40, -99), zoom=4, basemap=basemaps.Esri.WorldImagery)\n",
    "    if map == 'NatGeoWorldMap': m = Map(center=(40, -99), zoom=4, basemap=basemaps.Esri.NatGeoWorldMap)\n",
    "    if map == 'HikeBike': m = Map(center=(39.73, -104.98), zoom=10, basemap=basemaps.HikeBike.HikeBike)\n",
    "    if map == 'HyddaFull': m = Map(center=(40, -99), zoom=4, basemap=basemaps.Hydda.Full)\n",
    "    if map == 'Night': m = Map(center=(40, -99), zoom=4, basemap=basemaps.NASAGIBS.ViirsEarthAtNight2012)\n",
    "    if map == 'ModisTerra': m = Map(center=(40, -99), zoom=4, basemap=basemaps.NASAGIBS.ModisTerraTrueColorCR)\n",
    "    if map == 'Mapnik': m = Map(center=(40, -99), zoom=4, basemap=basemaps.OpenStreetMap.Mapnik)\n",
    "    if map == 'HOT': m = Map(center=(40, -99), zoom=4, basemap=basemaps.OpenStreetMap.HOT)\n",
    "    if map == 'OpenTopoMap': m = Map(center=(40, -99), zoom=4, basemap=basemaps.OpenTopoMap)\n",
    "    if map == 'Toner': m = Map(center=(40, -99), zoom=4, basemap=basemaps.Stamen.Toner)\n",
    "    if map == 'Watercolor': m = Map(center=(40, -99), zoom=4, basemap=basemaps.Stamen.Watercolor)\n",
    "    display(m)\n",
    "        \n",
    "ipywidgets.interact(toggle_maps, map=radio_button)"
   ]
  },
  {
   "cell_type": "code",
   "execution_count": null,
   "metadata": {},
   "outputs": [],
   "source": [
    "from ipyleaflet import Map, Marker\n",
    "# install geocoder first from python.org python package index\n",
    "import geocoder\n",
    "\n",
    "# location address\n",
    "location = geocoder.osm('2920 Zoo Dr, San Diego, CA 92101')\n",
    "\n",
    "# to view location details use location.json\n",
    "\n",
    "# latitude and longitude of location\n",
    "latlng = [location.lat, location.lng]\n",
    "\n",
    "# create map\n",
    "san_diego_zoo_map = Map(center=latlng)\n",
    "\n",
    "# marker\n",
    "marker = Marker(location=latlng, title='2920 Zoo Dr, San Diego, CA 92101')\n",
    "san_diego_zoo_map.add_layer(marker)\n",
    "\n",
    "# display map\n",
    "san_diego_zoo_map"
   ]
  },
  {
   "cell_type": "code",
   "execution_count": null,
   "metadata": {},
   "outputs": [],
   "source": [
    "import ipyleaflet\n",
    "from ipyleaflet import DrawControl\n",
    "\n",
    "# create map\n",
    "draw_control_map = ipyleaflet.Map(zoom=1)\n",
    "\n",
    "# create control\n",
    "draw_control = DrawControl()\n",
    "\n",
    "# add control to map\n",
    "draw_control_map.add_control(draw_control)\n",
    "\n",
    "# add extra options to control\n",
    "draw_control.circle = {\n",
    "    \"shapeOptions\": {\n",
    "        \"fillColor\": \"blue\",\n",
    "        \"color\": \"blue\",\n",
    "        \"fillOpacity\": 0.5\n",
    "    }\n",
    "}\n",
    "\n",
    "draw_control.rectangle = {\n",
    "    \"shapeOptions\": {\n",
    "        \"fillColor\": \"blue\",\n",
    "        \"color\": \"blue\",\n",
    "        \"fillOpacity\": 0.5\n",
    "    }\n",
    "}\n",
    "\n",
    "# display map\n",
    "draw_control_map"
   ]
  },
  {
   "cell_type": "code",
   "execution_count": 6,
   "metadata": {},
   "outputs": [
    {
     "data": {
      "application/vnd.jupyter.widget-view+json": {
       "model_id": "283e5db41d684ff7b4d47fd35548ab66",
       "version_major": 2,
       "version_minor": 0
      },
      "text/plain": [
       "interactive(children=(IntSlider(value=10, continuous_update=False, description='Radius:', max=50, min=1), Outp…"
      ]
     },
     "metadata": {},
     "output_type": "display_data"
    },
    {
     "data": {
      "text/plain": [
       "<function __main__.resize_radius(radius_size)>"
      ]
     },
     "execution_count": 6,
     "metadata": {},
     "output_type": "execute_result"
    }
   ],
   "source": [
    "import geocoder\n",
    "import ipyleaflet\n",
    "from ipyleaflet import Map, WidgetControl\n",
    "import ipywidgets\n",
    "\n",
    "# get location data for large cities (latitude and longitude)\n",
    "new_york_city = geocoder.osm('New York City, New York')\n",
    "los_angeles = geocoder.osm('Los Angeles, California')\n",
    "chicago = geocoder.osm('Chicago, Illinois')\n",
    "houston = geocoder.osm('Houston, Texas')\n",
    "phoenix = geocoder.osm('Phoenix, Arizona')\n",
    "philadelphia = geocoder.osm('Philadelphia, Pennsylvania')\n",
    "san_antonio = geocoder.osm('San Antonio, Texas')\n",
    "san_diego = geocoder.osm('San Diego, California')\n",
    "dallas = geocoder.osm('Dallas, Texas')\n",
    "san_jose = geocoder.osm('San Jose, California')\n",
    "\n",
    "# create latitude, longitude, intensity for heat map\n",
    "# intensity is population scaled down so heat dots are more readable\n",
    "new_york_city_latlng = [new_york_city.lat, new_york_city.lng, 8398748/1000]\n",
    "los_angeles_latlng = [los_angeles.lat, los_angeles.lng, 3990456/1000]\n",
    "chicago_latlng = [chicago.lat, chicago.lng, 2705994/1000]\n",
    "houston_latlng = [houston.lat, houston.lng, 2325502/1000]\n",
    "phoenix_latlng = [phoenix.lat, phoenix.lng, 1660272/1000]\n",
    "philadelphia_latlng = [philadelphia.lat, philadelphia.lng, 1584138/1000]\n",
    "san_antonio_latlng = [san_antonio.lat, san_antonio.lng, 1532233/1000]\n",
    "san_diego_latlng = [san_diego.lat, san_diego.lng, 1425976/1000]\n",
    "dallas_latlng = [dallas.lat, dallas.lng, 1345047/1000]\n",
    "san_jose_latlng = [san_jose.lat, san_jose.lng, 1030119/1000]\n",
    "\n",
    "# create list of cities with latitude, longitude, intensity\n",
    "large_cities = [new_york_city_latlng, los_angeles_latlng, chicago_latlng, houston_latlng, phoenix_latlng, \n",
    "                philadelphia_latlng, san_antonio_latlng, san_diego_latlng, dallas_latlng, san_jose_latlng]\n",
    "\n",
    "# slider widget to control heatmap radius\n",
    "radius_slider = ipywidgets.IntSlider(value=10,\n",
    "                                  min=1,\n",
    "                                  max=50,\n",
    "                                  step=1,\n",
    "                                  description='Radius:',\n",
    "                                  disabled=False,\n",
    "                                  continuous_update=False,\n",
    "                                  orientation='horizontal',\n",
    "                                  readout=True,\n",
    "                                  readout_format='d')\n",
    "\n",
    "def resize_radius(radius_size):\n",
    "    # create map\n",
    "    cities_heatmap = Map(center=(40, -99), zoom=4)\n",
    "    \n",
    "    # create heatmap layer\n",
    "    heatmap_layer = ipyleaflet.Heatmap(locations=large_cities, radius=radius_size, blur=20)\n",
    "    \n",
    "    # add heatmap layer to map\n",
    "    cities_heatmap.add_layer(heatmap_layer)\n",
    "    \n",
    "    # display map\n",
    "    display(cities_heatmap)\n",
    "    \n",
    "ipywidgets.interact(resize_radius, radius_size=radius_slider)"
   ]
  },
  {
   "cell_type": "code",
   "execution_count": null,
   "metadata": {},
   "outputs": [],
   "source": [
    "import plotly.express as px\n",
    "xs = range(0,int(CR),10)\n",
    "trajM = ElasticNet()\n",
    "tPoints = pd.DataFrame({'Ranges':[0,.57*CR,.58*CR,CR],'Alts':[0,MO,MO,0]})\n",
    "trajM.fit(tPoints[['Ranges']],tPoints['Alts'])\n",
    "ys = trajM.predict(xs)\n",
    "tPoints = pd.DataFrame({'Ranges':xs,'Alts':ys})\n",
    "fig = px.scatter(tPoints, x='Ranges', y='Alts')\n",
    "fig.update_layout(autosize=False,width=800,height=MO/rng*800*1.5)"
   ]
  },
  {
   "cell_type": "code",
   "execution_count": 1,
   "metadata": {},
   "outputs": [
    {
     "name": "stdout",
     "output_type": "stream",
     "text": [
      "y = 3.25444 * x + -0.01170 * x^2 + -155.02799\n"
     ]
    },
    {
     "data": {
      "image/png": "[encoded data removed]",
      "text/plain": [
       "<Figure size 432x288 with 1 Axes>"
      ]
     },
     "metadata": {
      "needs_background": "light"
     },
     "output_type": "display_data"
    }
   ],
   "source": [
    "# define the true objective function\n",
    "def objective(x, a, b, c):\n",
    "\treturn a * x + b * x**2 + c\n",
    "\n",
    "# fit a second degree polynomial to the economic data\n",
    "from numpy import arange\n",
    "from pandas import read_csv\n",
    "from scipy.optimize import curve_fit\n",
    "from matplotlib import pyplot\n",
    "\n",
    "# define the true objective function\n",
    "def objective(x, a, b, c):\n",
    "\treturn a * x + b * x**2 + c\n",
    "\n",
    "# load the dataset\n",
    "url = 'https://raw.githubusercontent.com/jbrownlee/Datasets/master/longley.csv'\n",
    "dataframe = read_csv(url, header=None)\n",
    "data = dataframe.values\n",
    "# choose the input and output variables\n",
    "x, y = data[:, 4], data[:, -1]\n",
    "# curve fit\n",
    "popt, _ = curve_fit(objective, x, y)\n",
    "# summarize the parameter values\n",
    "a, b, c = popt\n",
    "print('y = %.5f * x + %.5f * x^2 + %.5f' % (a, b, c))\n",
    "# plot input vs output\n",
    "pyplot.scatter(x, y)\n",
    "# define a sequence of inputs between the smallest and largest known inputs\n",
    "x_line = arange(min(x), max(x), 1)\n",
    "# calculate the output for the range\n",
    "y_line = objective(x_line, a, b, c)\n",
    "# create a line plot for the mapping function\n",
    "pyplot.plot(x_line, y_line, '--', color='red')\n",
    "pyplot.show()"
   ]
  },
  {
   "cell_type": "code",
   "execution_count": 4,
   "metadata": {},
   "outputs": [
    {
     "name": "stdout",
     "output_type": "stream",
     "text": [
      "y = -0.00000 + 0.51897 * x + -0.00000 * x^2 + -0.00000 * x^3\n"
     ]
    },
    {
     "name": "stderr",
     "output_type": "stream",
     "text": [
      "C:\\Users\\harmk\\AppData\\Local\\Programs\\Python\\Python310\\lib\\site-packages\\scipy\\optimize\\_minpack_py.py:833: OptimizeWarning: Covariance of the parameters could not be estimated\n",
      "  warnings.warn('Covariance of the parameters could not be estimated',\n"
     ]
    },
    {
     "data": {
      "image/png": "[encoded data removed]",
      "text/plain": [
       "<Figure size 432x288 with 1 Axes>"
      ]
     },
     "metadata": {
      "needs_background": "light"
     },
     "output_type": "display_data"
    }
   ],
   "source": [
    "# define the true objective function\n",
    "def objective(x, a, b, c, d):\n",
    "\treturn a + b*x + c*x**2 + d*x**3\n",
    "\n",
    "# fit a second degree polynomial to the economic data\n",
    "from numpy import arange\n",
    "from pandas import read_csv\n",
    "from scipy.optimize import curve_fit\n",
    "from matplotlib import pyplot\n",
    "import pandas as pd\n",
    "\n",
    "# load the dataset\n",
    "CR = 16450\n",
    "MO = 3224\n",
    "tPoints = pd.DataFrame({'Ranges':[0,.57*CR,.58*CR,CR],'Alts':[0,MO,MO,0]})\n",
    "# choose the input and output variables\n",
    "x, y = tPoints['Ranges'], tPoints['Alts']\n",
    "# curve fit\n",
    "popt, _ = curve_fit(objective, x, y)\n",
    "# summarize the parameter values\n",
    "a, b, c, d = popt\n",
    "print('y = %.5f + %.5f * x + %.5f * x^2 + %.5f * x^3' % (a, b, c, d))\n",
    "# plot input vs output\n",
    "pyplot.scatter(x, y)\n",
    "# define a sequence of inputs between the smallest and largest known inputs\n",
    "x_line = arange(min(x), max(x), 1)\n",
    "# calculate the output for the range\n",
    "y_line = objective(x_line, a, b, c, d)\n",
    "# create a line plot for the mapping function\n",
    "pyplot.plot(x_line, y_line, '--', color='red')\n",
    "pyplot.show()"
   ]
  }
 ],
 "metadata": {
  "interpreter": {
   "hash": "c168bd907d9edf6e891a59be7f4ab8312caabe41970dca16a2465f9e936d4872"
  },
  "kernelspec": {
   "display_name": "Python 3.9.7 64-bit",
   "language": "python",
   "name": "python3"
  },
  "language_info": {
   "codemirror_mode": {
    "name": "ipython",
    "version": 3
   },
   "file_extension": ".py",
   "mimetype": "text/x-python",
   "name": "python",
   "nbconvert_exporter": "python",
   "pygments_lexer": "ipython3",
   "version": "3.10.2"
  },
  "orig_nbformat": 4
 },
 "nbformat": 4,
 "nbformat_minor": 2
}
