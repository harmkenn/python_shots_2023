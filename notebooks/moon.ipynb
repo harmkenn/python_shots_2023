{
 "cells": [
  {
   "attachments": {},
   "cell_type": "markdown",
   "metadata": {},
   "source": [
    "To perform MGRS to latitude and longitude conversions in Python using the GeographicLib library, you can follow these steps:\n",
    "\n",
    "Step 1: Install GeographicLib\n",
    "Ensure that you have the GeographicLib library installed in your Python environment. You can install it using pip:"
   ]
  },
  {
   "cell_type": "code",
   "execution_count": 1,
   "metadata": {},
   "outputs": [
    {
     "name": "stdout",
     "output_type": "stream",
     "text": [
      "Requirement already satisfied: geographiclib in c:\\users\\harmk\\appdata\\local\\programs\\python\\python311\\lib\\site-packages (2.0)\n",
      "Note: you may need to restart the kernel to use updated packages.\n"
     ]
    }
   ],
   "source": [
    "pip install geographiclib\n"
   ]
  },
  {
   "cell_type": "code",
   "execution_count": 2,
   "metadata": {},
   "outputs": [
    {
     "name": "stdout",
     "output_type": "stream",
     "text": [
      "Requirement already satisfied: pip in c:\\users\\harmk\\appdata\\local\\programs\\python\\python311\\lib\\site-packages (23.1.2)\n",
      "Note: you may need to restart the kernel to use updated packages.\n"
     ]
    }
   ],
   "source": [
    "pip install --upgrade pip"
   ]
  },
  {
   "cell_type": "code",
   "execution_count": 2,
   "metadata": {},
   "outputs": [
    {
     "ename": "ImportError",
     "evalue": "cannot import name 'MGRS' from 'geographiclib' (/home/gitpod/.pyenv/versions/3.11.1/lib/python3.11/site-packages/geographiclib/__init__.py)",
     "output_type": "error",
     "traceback": [
      "\u001b[0;31m---------------------------------------------------------------------------\u001b[0m",
      "\u001b[0;31mImportError\u001b[0m                               Traceback (most recent call last)",
      "Cell \u001b[0;32mIn[2], line 2\u001b[0m\n\u001b[1;32m      1\u001b[0m \u001b[39mfrom\u001b[39;00m \u001b[39mgeographiclib\u001b[39;00m\u001b[39m.\u001b[39;00m\u001b[39mgeodesic\u001b[39;00m \u001b[39mimport\u001b[39;00m Geodesic\n\u001b[0;32m----> 2\u001b[0m \u001b[39mfrom\u001b[39;00m \u001b[39mgeographiclib\u001b[39;00m \u001b[39mimport\u001b[39;00m MGRS\n",
      "\u001b[0;31mImportError\u001b[0m: cannot import name 'MGRS' from 'geographiclib' (/home/gitpod/.pyenv/versions/3.11.1/lib/python3.11/site-packages/geographiclib/__init__.py)"
     ]
    }
   ],
   "source": [
    "from geographiclib.geodesic import Geodesic\n",
    "from geographiclib import MGRS\n"
   ]
  },
  {
   "attachments": {},
   "cell_type": "markdown",
   "metadata": {},
   "source": [
    "Yes, there are Python libraries and programs available that can help you calculate your position based on the azimuth and direction of the moon. One such library is PyEphem, which allows for celestial computations and provides functions to determine positions of celestial objects like the moon. Here's an example of how you can use PyEphem to calculate your position:\n",
    "\n",
    "Step 1: Install PyEphem\n",
    "Ensure that you have PyEphem installed in your Python environment. You can install it using pip:"
   ]
  },
  {
   "cell_type": "code",
   "execution_count": 1,
   "metadata": {},
   "outputs": [
    {
     "name": "stdout",
     "output_type": "stream",
     "text": [
      "Collecting ephem\n",
      "  Downloading ephem-4.1.4-cp311-cp311-win_amd64.whl (1.4 MB)\n",
      "                                              0.0/1.4 MB ? eta -:--:--\n",
      "                                              0.0/1.4 MB ? eta -:--:--\n",
      "                                              0.0/1.4 MB ? eta -:--:--\n",
      "                                              0.0/1.4 MB ? eta -:--:--\n",
      "     -                                        0.0/1.4 MB 195.7 kB/s eta 0:00:08\n",
      "     -                                        0.1/1.4 MB 252.2 kB/s eta 0:00:06\n",
      "     --                                       0.1/1.4 MB 308.0 kB/s eta 0:00:05\n",
      "     ----                                     0.1/1.4 MB 425.3 kB/s eta 0:00:03\n",
      "     -----                                    0.2/1.4 MB 518.8 kB/s eta 0:00:03\n",
      "     --------                                 0.3/1.4 MB 678.0 kB/s eta 0:00:02\n",
      "     -------------                            0.5/1.4 MB 962.6 kB/s eta 0:00:01\n",
      "     -----------------                        0.6/1.4 MB 1.1 MB/s eta 0:00:01\n",
      "     ------------------------                 0.9/1.4 MB 1.4 MB/s eta 0:00:01\n",
      "     ---------------------------------        1.2/1.4 MB 1.8 MB/s eta 0:00:01\n",
      "     ---------------------------------------  1.4/1.4 MB 2.1 MB/s eta 0:00:01\n",
      "     ---------------------------------------  1.4/1.4 MB 2.1 MB/s eta 0:00:01\n",
      "     ---------------------------------------  1.4/1.4 MB 2.1 MB/s eta 0:00:01\n",
      "     ---------------------------------------  1.4/1.4 MB 2.1 MB/s eta 0:00:01\n",
      "     ---------------------------------------  1.4/1.4 MB 2.1 MB/s eta 0:00:01\n",
      "     ---------------------------------------  1.4/1.4 MB 2.1 MB/s eta 0:00:01\n",
      "     ---------------------------------------  1.4/1.4 MB 2.1 MB/s eta 0:00:01\n",
      "     ---------------------------------------  1.4/1.4 MB 2.1 MB/s eta 0:00:01\n",
      "     ---------------------------------------  1.4/1.4 MB 2.1 MB/s eta 0:00:01\n",
      "     ---------------------------------------  1.4/1.4 MB 2.1 MB/s eta 0:00:01\n",
      "     ---------------------------------------  1.4/1.4 MB 2.1 MB/s eta 0:00:01\n",
      "     ---------------------------------------  1.4/1.4 MB 2.1 MB/s eta 0:00:01\n",
      "     ---------------------------------------  1.4/1.4 MB 2.1 MB/s eta 0:00:01\n",
      "     ---------------------------------------  1.4/1.4 MB 2.1 MB/s eta 0:00:01\n",
      "     ---------------------------------------  1.4/1.4 MB 2.1 MB/s eta 0:00:01\n",
      "     ---------------------------------------  1.4/1.4 MB 2.1 MB/s eta 0:00:01\n",
      "     ---------------------------------------  1.4/1.4 MB 2.1 MB/s eta 0:00:01\n",
      "     ---------------------------------------  1.4/1.4 MB 2.1 MB/s eta 0:00:01\n",
      "     ---------------------------------------  1.4/1.4 MB 2.1 MB/s eta 0:00:01\n",
      "     ---------------------------------------  1.4/1.4 MB 2.1 MB/s eta 0:00:01\n",
      "     ---------------------------------------  1.4/1.4 MB 2.1 MB/s eta 0:00:01\n",
      "     ---------------------------------------  1.4/1.4 MB 2.1 MB/s eta 0:00:01\n",
      "     ---------------------------------------  1.4/1.4 MB 2.1 MB/s eta 0:00:01\n",
      "     ---------------------------------------  1.4/1.4 MB 2.1 MB/s eta 0:00:01\n",
      "     ---------------------------------------  1.4/1.4 MB 2.1 MB/s eta 0:00:01\n",
      "     ---------------------------------------  1.4/1.4 MB 2.1 MB/s eta 0:00:01\n",
      "     ---------------------------------------  1.4/1.4 MB 2.1 MB/s eta 0:00:01\n",
      "     ---------------------------------------  1.4/1.4 MB 2.1 MB/s eta 0:00:01\n",
      "     ---------------------------------------  1.4/1.4 MB 2.1 MB/s eta 0:00:01\n",
      "     ---------------------------------------  1.4/1.4 MB 2.1 MB/s eta 0:00:01\n",
      "     ---------------------------------------  1.4/1.4 MB 2.1 MB/s eta 0:00:01\n",
      "     ---------------------------------------  1.4/1.4 MB 2.1 MB/s eta 0:00:01\n",
      "     ---------------------------------------  1.4/1.4 MB 2.1 MB/s eta 0:00:01\n",
      "     ---------------------------------------  1.4/1.4 MB 2.1 MB/s eta 0:00:01\n",
      "     ---------------------------------------  1.4/1.4 MB 2.1 MB/s eta 0:00:01\n",
      "     ---------------------------------------  1.4/1.4 MB 2.1 MB/s eta 0:00:01\n",
      "     ---------------------------------------  1.4/1.4 MB 2.1 MB/s eta 0:00:01\n",
      "     ---------------------------------------  1.4/1.4 MB 2.1 MB/s eta 0:00:01\n",
      "     ---------------------------------------  1.4/1.4 MB 2.1 MB/s eta 0:00:01\n",
      "     ---------------------------------------  1.4/1.4 MB 2.1 MB/s eta 0:00:01\n",
      "     ---------------------------------------  1.4/1.4 MB 2.1 MB/s eta 0:00:01\n",
      "     ---------------------------------------  1.4/1.4 MB 2.1 MB/s eta 0:00:01\n",
      "     ---------------------------------------  1.4/1.4 MB 2.1 MB/s eta 0:00:01\n",
      "     ---------------------------------------  1.4/1.4 MB 2.1 MB/s eta 0:00:01\n",
      "     ---------------------------------------  1.4/1.4 MB 2.1 MB/s eta 0:00:01\n",
      "     ---------------------------------------  1.4/1.4 MB 2.1 MB/s eta 0:00:01\n",
      "     ---------------------------------------  1.4/1.4 MB 2.1 MB/s eta 0:00:01\n",
      "     ---------------------------------------  1.4/1.4 MB 2.1 MB/s eta 0:00:01\n",
      "     ---------------------------------------  1.4/1.4 MB 2.1 MB/s eta 0:00:01\n",
      "     ---------------------------------------  1.4/1.4 MB 2.1 MB/s eta 0:00:01\n",
      "     ---------------------------------------  1.4/1.4 MB 2.1 MB/s eta 0:00:01\n",
      "     ---------------------------------------  1.4/1.4 MB 2.1 MB/s eta 0:00:01\n",
      "     ---------------------------------------  1.4/1.4 MB 2.1 MB/s eta 0:00:01\n",
      "     ---------------------------------------  1.4/1.4 MB 2.1 MB/s eta 0:00:01\n",
      "     ---------------------------------------  1.4/1.4 MB 2.1 MB/s eta 0:00:01\n",
      "     ---------------------------------------  1.4/1.4 MB 2.1 MB/s eta 0:00:01\n",
      "     ---------------------------------------  1.4/1.4 MB 2.1 MB/s eta 0:00:01\n",
      "     ---------------------------------------  1.4/1.4 MB 2.1 MB/s eta 0:00:01\n",
      "     ---------------------------------------  1.4/1.4 MB 2.1 MB/s eta 0:00:01\n",
      "     ---------------------------------------  1.4/1.4 MB 2.1 MB/s eta 0:00:01\n",
      "     ---------------------------------------  1.4/1.4 MB 2.1 MB/s eta 0:00:01\n",
      "     ---------------------------------------  1.4/1.4 MB 2.1 MB/s eta 0:00:01\n",
      "     ---------------------------------------  1.4/1.4 MB 2.1 MB/s eta 0:00:01\n",
      "     ---------------------------------------  1.4/1.4 MB 2.1 MB/s eta 0:00:01\n",
      "     ---------------------------------------  1.4/1.4 MB 2.1 MB/s eta 0:00:01\n",
      "     ---------------------------------------  1.4/1.4 MB 2.1 MB/s eta 0:00:01\n",
      "     ---------------------------------------  1.4/1.4 MB 2.1 MB/s eta 0:00:01\n",
      "     ---------------------------------------  1.4/1.4 MB 2.1 MB/s eta 0:00:01\n",
      "     ---------------------------------------  1.4/1.4 MB 2.1 MB/s eta 0:00:01\n",
      "     ---------------------------------------  1.4/1.4 MB 2.1 MB/s eta 0:00:01\n",
      "     ---------------------------------------  1.4/1.4 MB 2.1 MB/s eta 0:00:01\n",
      "     ---------------------------------------  1.4/1.4 MB 2.1 MB/s eta 0:00:01\n",
      "     ---------------------------------------  1.4/1.4 MB 2.1 MB/s eta 0:00:01\n",
      "     ---------------------------------------  1.4/1.4 MB 2.1 MB/s eta 0:00:01\n",
      "     ---------------------------------------  1.4/1.4 MB 2.1 MB/s eta 0:00:01\n",
      "     ---------------------------------------  1.4/1.4 MB 2.1 MB/s eta 0:00:01\n",
      "     ---------------------------------------  1.4/1.4 MB 2.1 MB/s eta 0:00:01\n",
      "     ---------------------------------------  1.4/1.4 MB 2.1 MB/s eta 0:00:01\n",
      "     ---------------------------------------  1.4/1.4 MB 2.1 MB/s eta 0:00:01\n",
      "     ---------------------------------------  1.4/1.4 MB 2.1 MB/s eta 0:00:01\n",
      "     ---------------------------------------  1.4/1.4 MB 2.1 MB/s eta 0:00:01\n",
      "     ---------------------------------------  1.4/1.4 MB 2.1 MB/s eta 0:00:01\n",
      "     ---------------------------------------  1.4/1.4 MB 2.1 MB/s eta 0:00:01\n",
      "     ---------------------------------------  1.4/1.4 MB 2.1 MB/s eta 0:00:01\n",
      "     ---------------------------------------  1.4/1.4 MB 2.1 MB/s eta 0:00:01\n",
      "     ---------------------------------------  1.4/1.4 MB 2.1 MB/s eta 0:00:01\n",
      "     ---------------------------------------  1.4/1.4 MB 2.1 MB/s eta 0:00:01\n",
      "     ---------------------------------------  1.4/1.4 MB 2.1 MB/s eta 0:00:01\n",
      "     ---------------------------------------  1.4/1.4 MB 2.1 MB/s eta 0:00:01\n",
      "     ---------------------------------------  1.4/1.4 MB 2.1 MB/s eta 0:00:01\n",
      "     ---------------------------------------  1.4/1.4 MB 2.1 MB/s eta 0:00:01\n",
      "     ---------------------------------------  1.4/1.4 MB 2.1 MB/s eta 0:00:01\n",
      "     ---------------------------------------  1.4/1.4 MB 2.1 MB/s eta 0:00:01\n",
      "     ---------------------------------------  1.4/1.4 MB 2.1 MB/s eta 0:00:01\n",
      "     ---------------------------------------  1.4/1.4 MB 2.1 MB/s eta 0:00:01\n",
      "     ---------------------------------------  1.4/1.4 MB 2.1 MB/s eta 0:00:01\n",
      "     ---------------------------------------  1.4/1.4 MB 2.1 MB/s eta 0:00:01\n",
      "     ---------------------------------------  1.4/1.4 MB 2.1 MB/s eta 0:00:01\n",
      "     ---------------------------------------  1.4/1.4 MB 2.1 MB/s eta 0:00:01\n",
      "     ---------------------------------------  1.4/1.4 MB 2.1 MB/s eta 0:00:01\n",
      "     ---------------------------------------  1.4/1.4 MB 2.1 MB/s eta 0:00:01\n",
      "     ---------------------------------------  1.4/1.4 MB 2.1 MB/s eta 0:00:01\n",
      "     ---------------------------------------  1.4/1.4 MB 2.1 MB/s eta 0:00:01\n",
      "     ---------------------------------------  1.4/1.4 MB 2.1 MB/s eta 0:00:01\n",
      "     ---------------------------------------  1.4/1.4 MB 2.1 MB/s eta 0:00:01\n",
      "     ---------------------------------------  1.4/1.4 MB 2.1 MB/s eta 0:00:01\n",
      "     ---------------------------------------  1.4/1.4 MB 2.1 MB/s eta 0:00:01\n",
      "     ---------------------------------------  1.4/1.4 MB 2.1 MB/s eta 0:00:01\n",
      "     ---------------------------------------  1.4/1.4 MB 2.1 MB/s eta 0:00:01\n",
      "     ---------------------------------------  1.4/1.4 MB 2.1 MB/s eta 0:00:01\n",
      "     ---------------------------------------  1.4/1.4 MB 2.1 MB/s eta 0:00:01\n",
      "     ---------------------------------------  1.4/1.4 MB 2.1 MB/s eta 0:00:01\n",
      "     ---------------------------------------- 1.4/1.4 MB 220.7 kB/s eta 0:00:00\n",
      "Installing collected packages: ephem\n",
      "Successfully installed ephem-4.1.4\n",
      "Note: you may need to restart the kernel to use updated packages.\n"
     ]
    }
   ],
   "source": [
    "pip install ephem"
   ]
  },
  {
   "cell_type": "code",
   "execution_count": 2,
   "metadata": {},
   "outputs": [
    {
     "name": "stdout",
     "output_type": "stream",
     "text": [
      "Azimuth: 175:18:07.6\n",
      "Altitude: 65:36:01.1\n"
     ]
    }
   ],
   "source": [
    "import ephem\n",
    "\n",
    "# Set your observer location\n",
    "observer = ephem.Observer()\n",
    "observer.lat = '51.5074'  # Set your latitude (e.g., London)\n",
    "observer.lon = '-0.1278'  # Set your longitude (e.g., London)\n",
    "\n",
    "# Set the current date and time\n",
    "observer.date = ephem.now()\n",
    "\n",
    "# Create a moon object\n",
    "moon = ephem.Moon()\n",
    "\n",
    "# Calculate the moon's position\n",
    "moon.compute(observer)\n",
    "\n",
    "# Get the azimuth and altitude of the moon\n",
    "azimuth = moon.az\n",
    "altitude = moon.alt\n",
    "\n",
    "# Print the results\n",
    "print(\"Azimuth:\", azimuth)\n",
    "print(\"Altitude:\", altitude)\n"
   ]
  },
  {
   "cell_type": "code",
   "execution_count": 6,
   "metadata": {},
   "outputs": [
    {
     "ename": "AttributeError",
     "evalue": "type object 'ephem.Moon' has no attribute 'lat'",
     "output_type": "error",
     "traceback": [
      "\u001b[1;31m---------------------------------------------------------------------------\u001b[0m",
      "\u001b[1;31mAttributeError\u001b[0m                            Traceback (most recent call last)",
      "Cell \u001b[1;32mIn[6], line 1\u001b[0m\n\u001b[1;32m----> 1\u001b[0m ephem\u001b[39m.\u001b[39;49mMoon\u001b[39m.\u001b[39;49mlat\n",
      "\u001b[1;31mAttributeError\u001b[0m: type object 'ephem.Moon' has no attribute 'lat'"
     ]
    }
   ],
   "source": [
    "ephem.Moon.lat"
   ]
  },
  {
   "cell_type": "code",
   "execution_count": 4,
   "metadata": {},
   "outputs": [
    {
     "ename": "AttributeError",
     "evalue": "module 'ephem' has no attribute 'sun'",
     "output_type": "error",
     "traceback": [
      "\u001b[1;31m---------------------------------------------------------------------------\u001b[0m",
      "\u001b[1;31mAttributeError\u001b[0m                            Traceback (most recent call last)",
      "Cell \u001b[1;32mIn[4], line 1\u001b[0m\n\u001b[1;32m----> 1\u001b[0m ephem\u001b[39m.\u001b[39;49msun\n",
      "\u001b[1;31mAttributeError\u001b[0m: module 'ephem' has no attribute 'sun'"
     ]
    }
   ],
   "source": [
    "ephem.sun"
   ]
  }
 ],
 "metadata": {
  "kernelspec": {
   "display_name": "Python 3",
   "language": "python",
   "name": "python3"
  },
  "language_info": {
   "codemirror_mode": {
    "name": "ipython",
    "version": 3
   },
   "file_extension": ".py",
   "mimetype": "text/x-python",
   "name": "python",
   "nbconvert_exporter": "python",
   "pygments_lexer": "ipython3",
   "version": "3.11.4"
  },
  "orig_nbformat": 4
 },
 "nbformat": 4,
 "nbformat_minor": 2
}
