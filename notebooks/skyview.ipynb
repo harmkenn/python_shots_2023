{
 "cells": [
  {
   "cell_type": "code",
   "execution_count": 8,
   "metadata": {},
   "outputs": [
    {
     "ename": "UFuncTypeError",
     "evalue": "ufunc 'add' cannot use operands with types dtype('O') and dtype('<m8[D]')",
     "output_type": "error",
     "traceback": [
      "\u001b[1;31m---------------------------------------------------------------------------\u001b[0m",
      "\u001b[1;31mUFuncTypeError\u001b[0m                            Traceback (most recent call last)",
      "\u001b[1;32me:\\Github\\Python_Shots_2023\\notebooks\\skyview.ipynb Cell 1\u001b[0m line \u001b[0;36m3\n\u001b[0;32m     <a href='vscode-notebook-cell:/e%3A/Github/Python_Shots_2023/notebooks/skyview.ipynb#W4sZmlsZQ%3D%3D?line=33'>34</a>\u001b[0m \u001b[39m# Define the time range (24 hours)\u001b[39;00m\n\u001b[0;32m     <a href='vscode-notebook-cell:/e%3A/Github/Python_Shots_2023/notebooks/skyview.ipynb#W4sZmlsZQ%3D%3D?line=34'>35</a>\u001b[0m start_time \u001b[39m=\u001b[39m datetime\u001b[39m.\u001b[39mutcnow()\n\u001b[1;32m---> <a href='vscode-notebook-cell:/e%3A/Github/Python_Shots_2023/notebooks/skyview.ipynb#W4sZmlsZQ%3D%3D?line=35'>36</a>\u001b[0m times \u001b[39m=\u001b[39m ts\u001b[39m.\u001b[39mutc(start_time, start_time \u001b[39m+\u001b[39;49m np\u001b[39m.\u001b[39;49mtimedelta64(\u001b[39m1\u001b[39;49m, \u001b[39m'\u001b[39;49m\u001b[39mD\u001b[39;49m\u001b[39m'\u001b[39;49m), \u001b[39m60\u001b[39m)  \u001b[39m# 1-minute intervals\u001b[39;00m\n\u001b[0;32m     <a href='vscode-notebook-cell:/e%3A/Github/Python_Shots_2023/notebooks/skyview.ipynb#W4sZmlsZQ%3D%3D?line=37'>38</a>\u001b[0m \u001b[39m# Calculate the sky positions\u001b[39;00m\n\u001b[0;32m     <a href='vscode-notebook-cell:/e%3A/Github/Python_Shots_2023/notebooks/skyview.ipynb#W4sZmlsZQ%3D%3D?line=38'>39</a>\u001b[0m data \u001b[39m=\u001b[39m calculate_sky(observer, times, objects)\n",
      "\u001b[1;31mUFuncTypeError\u001b[0m: ufunc 'add' cannot use operands with types dtype('O') and dtype('<m8[D]')"
     ]
    }
   ],
   "source": [
    "import numpy as np\n",
    "import matplotlib.pyplot as plt\n",
    "from skyfield.api import Topos, load\n",
    "from datetime import datetime\n",
    "\n",
    "# Function to calculate the positions of celestial objects\n",
    "def calculate_sky(observer, times, objects):\n",
    "    data = []\n",
    "    for t in times:\n",
    "        observer.date = t\n",
    "        row = [t.utc_datetime()]\n",
    "        for obj in objects:\n",
    "            astrometric = (observer - obj).at(t)\n",
    "            alt, az, _ = astrometric.altaz()\n",
    "            row.append(alt.degrees)\n",
    "            row.append(az.degrees)\n",
    "        data.append(row)\n",
    "    return np.array(data)\n",
    "\n",
    "# Location (Change latitude and longitude to your desired location)\n",
    "latitude = 40.7128  # Example: New York City\n",
    "longitude = -74.0060\n",
    "\n",
    "# Create a Skyfield observer\n",
    "ts = load.timescale()\n",
    "observer = Topos(latitude_degrees=latitude, longitude_degrees=longitude)\n",
    "\n",
    "# Objects to track (Sun, Moon, and planets)\n",
    "eph = load('de421.bsp')\n",
    "sun, moon, mercury, venus, mars = eph['sun'], eph['moon'], eph['mercury barycenter'], eph['venus barycenter'], eph['mars barycenter']\n",
    "\n",
    "objects = [sun, moon, mercury, venus, mars]\n",
    "\n",
    "# Define the time range (24 hours)\n",
    "start_time = datetime.utcnow()\n",
    "times = ts.utc(start_time, start_time + np.timedelta64(1, 'D'), 60)  # 1-minute intervals\n",
    "\n",
    "# Calculate the sky positions\n",
    "data = calculate_sky(observer, times, objects)\n",
    "\n",
    "# Plotting the sky view\n",
    "plt.figure(figsize=(12, 6))\n",
    "plt.subplot(111, projection='polar')\n",
    "\n",
    "# Plot the celestial objects\n",
    "for i in range(1, len(objects) * 2, 2):\n",
    "    plt.polar(np.radians(data[:, i + 1]), 90 - data[:, i], label=objects[i // 2].name)\n",
    "\n",
    "plt.legend(loc='upper left')\n",
    "plt.title(\"Sky View from Your Location\")\n",
    "plt.grid(True)\n",
    "\n",
    "plt.show()\n"
   ]
  },
  {
   "cell_type": "code",
   "execution_count": 11,
   "metadata": {},
   "outputs": [],
   "source": [
    "import numpy as np\n",
    "import matplotlib.pyplot as plt\n",
    "from skyfield.api import Topos, load\n",
    "from datetime import datetime\n",
    "\n",
    "# Function to calculate the positions of celestial objects\n",
    "def calculate_sky(observer, times, objects):\n",
    "    data = []\n",
    "    for t in times:\n",
    "        observer.date = t\n",
    "        row = [t.utc_datetime()]\n",
    "        for obj in objects:\n",
    "            astrometric = (observer - obj).at(t)\n",
    "            alt, az, _ = astrometric.altaz()\n",
    "            row.append(alt.degrees)\n",
    "            row.append(az.degrees)\n",
    "        data.append(row)\n",
    "    return np.array(data)\n",
    "\n",
    "# Location (Change latitude and longitude to your desired location)\n",
    "latitude = 40.7128  # Example: New York City\n",
    "longitude = -74.0060\n",
    "\n",
    "# Create a Skyfield observer\n",
    "ts = load.timescale()\n",
    "observer = Topos(latitude_degrees=latitude, longitude_degrees=longitude)\n",
    "\n",
    "# Objects to track (Sun, Moon, and planets)\n",
    "eph = load('de421.bsp')\n",
    "sun, moon, mercury, venus, mars, saturn = eph['sun'], eph['moon'], eph['mercury barycenter'], eph['venus barycenter'], eph['mars barycenter'], eph['saturn barycenter']\n",
    "\n",
    "objects = [sun, moon, mercury, venus, mars, saturn]\n",
    "\n"
   ]
  },
  {
   "cell_type": "code",
   "execution_count": 17,
   "metadata": {},
   "outputs": [],
   "source": [
    "# Define the time range (24 hours)\n",
    "start_time = datetime.utcnow()\n",
    "end_time = datetime(2024, 9, 22, 13, 44, 23, 486290)\n",
    "#times = ts.utc(start_time,end_time)  # 1-minute intervals\n",
    "\n"
   ]
  },
  {
   "cell_type": "code",
   "execution_count": 19,
   "metadata": {},
   "outputs": [
    {
     "ename": "TypeError",
     "evalue": "'datetime.datetime' object is not iterable",
     "output_type": "error",
     "traceback": [
      "\u001b[1;31m---------------------------------------------------------------------------\u001b[0m",
      "\u001b[1;31mTypeError\u001b[0m                                 Traceback (most recent call last)",
      "\u001b[1;32me:\\Github\\Python_Shots_2023\\notebooks\\skyview.ipynb Cell 4\u001b[0m line \u001b[0;36m2\n\u001b[0;32m      <a href='vscode-notebook-cell:/e%3A/Github/Python_Shots_2023/notebooks/skyview.ipynb#X10sZmlsZQ%3D%3D?line=0'>1</a>\u001b[0m \u001b[39m# Calculate the sky positions\u001b[39;00m\n\u001b[1;32m----> <a href='vscode-notebook-cell:/e%3A/Github/Python_Shots_2023/notebooks/skyview.ipynb#X10sZmlsZQ%3D%3D?line=1'>2</a>\u001b[0m data \u001b[39m=\u001b[39m calculate_sky(observer, start_time, objects)\n\u001b[0;32m      <a href='vscode-notebook-cell:/e%3A/Github/Python_Shots_2023/notebooks/skyview.ipynb#X10sZmlsZQ%3D%3D?line=3'>4</a>\u001b[0m \u001b[39m# Convert datetime objects to numeric timestamps\u001b[39;00m\n\u001b[0;32m      <a href='vscode-notebook-cell:/e%3A/Github/Python_Shots_2023/notebooks/skyview.ipynb#X10sZmlsZQ%3D%3D?line=4'>5</a>\u001b[0m timestamps \u001b[39m=\u001b[39m [t\u001b[39m.\u001b[39mtimestamp() \u001b[39mfor\u001b[39;00m t \u001b[39min\u001b[39;00m data[:, \u001b[39m0\u001b[39m]]\n",
      "\u001b[1;32me:\\Github\\Python_Shots_2023\\notebooks\\skyview.ipynb Cell 4\u001b[0m line \u001b[0;36m9\n\u001b[0;32m      <a href='vscode-notebook-cell:/e%3A/Github/Python_Shots_2023/notebooks/skyview.ipynb#X10sZmlsZQ%3D%3D?line=6'>7</a>\u001b[0m \u001b[39mdef\u001b[39;00m \u001b[39mcalculate_sky\u001b[39m(observer, times, objects):\n\u001b[0;32m      <a href='vscode-notebook-cell:/e%3A/Github/Python_Shots_2023/notebooks/skyview.ipynb#X10sZmlsZQ%3D%3D?line=7'>8</a>\u001b[0m     data \u001b[39m=\u001b[39m []\n\u001b[1;32m----> <a href='vscode-notebook-cell:/e%3A/Github/Python_Shots_2023/notebooks/skyview.ipynb#X10sZmlsZQ%3D%3D?line=8'>9</a>\u001b[0m     \u001b[39mfor\u001b[39;00m t \u001b[39min\u001b[39;00m times:\n\u001b[0;32m     <a href='vscode-notebook-cell:/e%3A/Github/Python_Shots_2023/notebooks/skyview.ipynb#X10sZmlsZQ%3D%3D?line=9'>10</a>\u001b[0m         observer\u001b[39m.\u001b[39mdate \u001b[39m=\u001b[39m t\n\u001b[0;32m     <a href='vscode-notebook-cell:/e%3A/Github/Python_Shots_2023/notebooks/skyview.ipynb#X10sZmlsZQ%3D%3D?line=10'>11</a>\u001b[0m         row \u001b[39m=\u001b[39m [t\u001b[39m.\u001b[39mutc_datetime()]\n",
      "\u001b[1;31mTypeError\u001b[0m: 'datetime.datetime' object is not iterable"
     ]
    }
   ],
   "source": [
    "# Calculate the sky positions\n",
    "data = calculate_sky(observer, start_time, objects)\n",
    "\n",
    "# Convert datetime objects to numeric timestamps\n",
    "timestamps = [t.timestamp() for t in data[:, 0]]\n",
    "\n",
    "# Plotting the sky view\n",
    "plt.figure(figsize=(12, 6))\n",
    "plt.subplot(111, projection='polar')\n",
    "\n",
    "# Plot the celestial objects\n",
    "for i in range(1, len(objects) * 2, 2):\n",
    "    plt.polar(np.radians(data[:, i + 1]), 90 - data[:, i], label=objects[i // 2].name)\n",
    "\n",
    "plt.legend(loc='upper left')\n",
    "plt.title(\"Sky View from Your Location\")\n",
    "plt.grid(True)\n",
    "\n",
    "plt.show()\n"
   ]
  }
 ],
 "metadata": {
  "kernelspec": {
   "display_name": "Python 3",
   "language": "python",
   "name": "python3"
  },
  "language_info": {
   "codemirror_mode": {
    "name": "ipython",
    "version": 3
   },
   "file_extension": ".py",
   "mimetype": "text/x-python",
   "name": "python",
   "nbconvert_exporter": "python",
   "pygments_lexer": "ipython3",
   "version": "3.11.2"
  },
  "orig_nbformat": 4
 },
 "nbformat": 4,
 "nbformat_minor": 2
}
