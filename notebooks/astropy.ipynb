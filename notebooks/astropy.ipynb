{
 "cells": [
  {
   "cell_type": "code",
   "execution_count": null,
   "metadata": {},
   "outputs": [],
   "source": [
    "from astropy import units as u \n",
    "from astropy.coordinates import SkyCoord, EarthLocation, AltAz\n",
    "from astropy.time import Time\n",
    "\n",
    "# Define the observer's location\n",
    "observer_latitude = 37.7749 * u.deg\n",
    "observer_longitude = -122.4194 * u.deg\n",
    "observer_elevation = 0 * u.m\n",
    "\n",
    "# Define the current date and time\n",
    "current_time = Time.now()\n",
    "\n",
    "# Set up the observer's location\n",
    "observer_location = EarthLocation(\n",
    "    lat=observer_latitude,\n",
    "    lon=observer_longitude,\n",
    "    height=observer_elevation\n",
    ")\n",
    "\n",
    "# Get the position of Polaris from the observer's location\n",
    "polaris = SkyCoord.from_name(\"Polaris\")\n",
    "polaris_altaz = polaris.transform_to(AltAz(obstime=current_time, location=observer_location))\n",
    "\n",
    "# Retrieve the altitude and azimuth of Polaris\n",
    "altitude = polaris_altaz.alt\n",
    "azimuth = polaris_altaz.az\n",
    "\n",
    "# Print the location of Polaris relative to the observer\n",
    "print(\"Polaris Altitude:\", altitude)\n",
    "print(\"Polaris Azimuth:\", azimuth)\n",
    "\n"
   ]
  },
  {
   "cell_type": "code",
   "execution_count": 9,
   "metadata": {},
   "outputs": [
    {
     "name": "stdout",
     "output_type": "stream",
     "text": [
      "Sun's Altitude: 65d53m20.29914578s\n",
      "Sun's Azimuth: 174d18m49.32450158s\n"
     ]
    }
   ],
   "source": [
    "from astropy import units as u\n",
    "from astropy.coordinates import SkyCoord, EarthLocation, AltAz\n",
    "from astropy.time import Time\n",
    "from astropy.coordinates import get_sun\n",
    "\n",
    "# Define the observer's location\n",
    "observer_latitude = 45.54548 * u.deg\n",
    "observer_longitude = 11.53541 * u.deg\n",
    "observer_elevation = 0 * u.m\n",
    "\n",
    "# Define the current date and time\n",
    "current_time = Time.now()\n",
    "\n",
    "# Set up the observer's location\n",
    "observer_location = EarthLocation(\n",
    "    lat=observer_latitude,\n",
    "    lon=observer_longitude,\n",
    "    height=observer_elevation\n",
    ")\n",
    "\n",
    "# Get the position of the Sun from the observer's location\n",
    "sun = get_sun(current_time)\n",
    "sun_altaz = sun.transform_to(AltAz(obstime=current_time, location=observer_location))\n",
    "\n",
    "# Retrieve the altitude and azimuth of the Sun\n",
    "altitude = sun_altaz.alt\n",
    "azimuth = sun_altaz.az\n",
    "\n",
    "# Print the location of the Sun relative to the observer\n",
    "print(\"Sun's Altitude:\", altitude)\n",
    "print(\"Sun's Azimuth:\", azimuth)\n"
   ]
  },
  {
   "cell_type": "code",
   "execution_count": 10,
   "metadata": {},
   "outputs": [
    {
     "name": "stdout",
     "output_type": "stream",
     "text": [
      "Moon's Altitude: 2d49m14.74498613s\n",
      "Moon's Azimuth: 57d34m01.35356785s\n"
     ]
    },
    {
     "name": "stderr",
     "output_type": "stream",
     "text": [
      "WARNING: AstropyDeprecationWarning: The get_moon function is deprecated and may be removed in a future version.\n",
      "        Use get_body(\"moon\") instead. [warnings]\n"
     ]
    }
   ],
   "source": [
    "from astropy import units as u\n",
    "from astropy.coordinates import SkyCoord, EarthLocation, AltAz\n",
    "from astropy.time import Time\n",
    "from astropy.coordinates import get_moon\n",
    "\n",
    "# Define the observer's location\n",
    "observer_latitude = 37.7749 * u.deg\n",
    "observer_longitude = -122.4194 * u.deg\n",
    "observer_elevation = 0 * u.m\n",
    "\n",
    "# Define the current date and time\n",
    "current_time = Time.now()\n",
    "\n",
    "# Set up the observer's location\n",
    "observer_location = EarthLocation(\n",
    "    lat=observer_latitude,\n",
    "    lon=observer_longitude,\n",
    "    height=observer_elevation\n",
    ")\n",
    "\n",
    "# Get the position of the Moon from the observer's location\n",
    "moon = get_moon(current_time, observer_location)\n",
    "moon_altaz = moon.transform_to(AltAz(obstime=current_time, location=observer_location))\n",
    "\n",
    "# Retrieve the altitude and azimuth of the Moon\n",
    "altitude = moon_altaz.alt\n",
    "azimuth = moon_altaz.az\n",
    "\n",
    "# Print the location of the Moon relative to the observer\n",
    "print(\"Moon's Altitude:\", altitude)\n",
    "print(\"Moon's Azimuth:\", azimuth)\n"
   ]
  }
 ],
 "metadata": {
  "kernelspec": {
   "display_name": "Python 3",
   "language": "python",
   "name": "python3"
  },
  "language_info": {
   "codemirror_mode": {
    "name": "ipython",
    "version": 3
   },
   "file_extension": ".py",
   "mimetype": "text/x-python",
   "name": "python",
   "nbconvert_exporter": "python",
   "pygments_lexer": "ipython3",
   "version": "3.11.4"
  },
  "orig_nbformat": 4
 },
 "nbformat": 4,
 "nbformat_minor": 2
}
