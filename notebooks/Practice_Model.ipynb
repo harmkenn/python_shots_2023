{
 "cells": [
  {
   "cell_type": "code",
   "execution_count": 1,
   "metadata": {},
   "outputs": [
    {
     "name": "stdout",
     "output_type": "stream",
     "text": [
      "R-squared: 0.946775893484002\n"
     ]
    }
   ],
   "source": [
    "import pandas as pd\n",
    "import numpy as np\n",
    "from sklearn.linear_model import LinearRegression\n",
    "from sklearn.model_selection import train_test_split\n",
    "from sklearn.metrics import r2_score\n",
    "\n",
    "# Load data from CSV file\n",
    "data = pd.read_csv('../data/M795Macs.csv')\n",
    "data['cosAZ'] = np.cos(data['GTL (mils)']*np.pi/3200)\n",
    "data = data.loc[data['Chg'] == '3H']\n",
    "\n",
    "# Extract the feature and target variables\n",
    "X = data[['Range (M)', 'LAT (deg)', 'cosAZ', 'VI (M)', 'MV (m/s)']]\n",
    "y = data[['Drift', 'QE (mils)', 'TOF', 'MAX Ord (M)']]\n",
    "\n",
    "# Split data into training and testing sets\n",
    "X_train, X_test, y_train, y_test = train_test_split(X, y, test_size=0.2, random_state=42)\n",
    "\n",
    "# Create a Linear Regression model\n",
    "lr = LinearRegression()\n",
    "\n",
    "# Train the model on the training data\n",
    "lr.fit(X_train, y_train)\n",
    "\n",
    "# Use the trained model to make predictions on the test data\n",
    "y_pred = lr.predict(X_test)\n",
    "\n",
    "# Evaluate the performance of the model\n",
    "r_squared = r2_score(y_test, y_pred)\n",
    "\n",
    "print(\"R-squared:\", r_squared)\n"
   ]
  },
  {
   "cell_type": "code",
   "execution_count": 2,
   "metadata": {},
   "outputs": [
    {
     "name": "stdout",
     "output_type": "stream",
     "text": [
      "Mean squared error: 626.7318837363628\n"
     ]
    }
   ],
   "source": [
    "import numpy as np\n",
    "from sklearn.model_selection import train_test_split\n",
    "from sklearn.linear_model import LinearRegression\n",
    "from sklearn.preprocessing import PolynomialFeatures\n",
    "from sklearn.metrics import mean_squared_error\n",
    "\n",
    "# Load data from CSV file\n",
    "data = pd.read_csv('../data/M795Macs.csv')\n",
    "data['cosAZ'] = np.cos(data['GTL (mils)']*np.pi/3200)\n",
    "data = data.loc[data['Chg'] == '1L']\n",
    "\n",
    "# Extract the feature and target variables\n",
    "X = data[['Range (M)', 'LAT (deg)', 'cosAZ', 'VI (M)', 'MV (m/s)']]\n",
    "y = data[['Drift', 'QE (mils)', 'TOF', 'MAX Ord (M)']]\n",
    "\n",
    "# split the data into training and test sets\n",
    "X_train, X_test, y_train, y_test = train_test_split(X, y, test_size=0.2, random_state=42)\n",
    "\n",
    "# transform the input data to include polynomial terms up to degree 3\n",
    "poly = PolynomialFeatures(degree=3, include_bias=False)\n",
    "X_train_poly = poly.fit_transform(X_train)\n",
    "X_test_poly = poly.transform(X_test)\n",
    "\n",
    "# create a linear regression model and fit the training data\n",
    "model = LinearRegression()\n",
    "model.fit(X_train_poly, y_train)\n",
    "\n",
    "# predict the outputs for the test data and calculate the mean squared error\n",
    "y_pred = model.predict(X_test_poly)\n",
    "mse = mean_squared_error(y_test, y_pred)\n",
    "print(\"Mean squared error:\", mse)"
   ]
  },
  {
   "cell_type": "code",
   "execution_count": 4,
   "metadata": {},
   "outputs": [
    {
     "data": {
      "text/plain": [
       "array([[  4.97746716, 309.94490215,  13.61565663, 865.86183966]])"
      ]
     },
     "execution_count": 4,
     "metadata": {},
     "output_type": "execute_result"
    }
   ],
   "source": [
    "andthis = {'Range (M)':3571, 'LAT (deg)':6+48/60, 'cosAZ':np.cos(4303*np.pi/3200), 'VI (M)':200, 'MV (m/s)':288.2}\n",
    "andthis = pd.DataFrame([andthis])\n",
    "andthis = poly.transform(andthis)\n",
    "output = model.predict(andthis)\n",
    "output"
   ]
  }
 ],
 "metadata": {
  "kernelspec": {
   "display_name": "Python 3",
   "language": "python",
   "name": "python3"
  },
  "language_info": {
   "codemirror_mode": {
    "name": "ipython",
    "version": 3
   },
   "file_extension": ".py",
   "mimetype": "text/x-python",
   "name": "python",
   "nbconvert_exporter": "python",
   "pygments_lexer": "ipython3",
   "version": "3.11.2"
  },
  "orig_nbformat": 4
 },
 "nbformat": 4,
 "nbformat_minor": 2
}
