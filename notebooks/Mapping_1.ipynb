{
 "cells": [
  {
   "cell_type": "code",
   "execution_count": null,
   "metadata": {},
   "outputs": [],
   "source": [
    "# https://www.youtube.com/watch?v=FdqDgoG-SFM&list=WL&index=2\n",
    "\n",
    "import folium\n",
    "import pandas as pd"
   ]
  },
  {
   "cell_type": "code",
   "execution_count": null,
   "metadata": {},
   "outputs": [],
   "source": [
    "world = folium.Map(\n",
    "    zoom_start=2,\n",
    "    location=[13.133932434766733, 16.103938729508073])\n",
    "world"
   ]
  },
  {
   "cell_type": "code",
   "execution_count": null,
   "metadata": {},
   "outputs": [],
   "source": [
    "cities = pd.read_csv('../data/cities.csv')\n",
    "print(cities.shape)\n",
    "cities.head(3)"
   ]
  },
  {
   "cell_type": "code",
   "execution_count": null,
   "metadata": {},
   "outputs": [],
   "source": [
    "city = cities.iloc[0]\n",
    "folium.Marker(\n",
    "    location=[city['latitude'], city['longitude']],\n",
    ").add_to(world)\n",
    "\n",
    "world"
   ]
  },
  {
   "cell_type": "code",
   "execution_count": null,
   "metadata": {},
   "outputs": [],
   "source": [
    "world_all_cities = folium.Map(\n",
    "    zoom_start=2,\n",
    "    location=[13.133932434766733, 16.103938729508073]\n",
    ")\n",
    "\n",
    "for _, city in cities.iterrows():\n",
    "    folium.Marker(\n",
    "        location=[city['latitude'], city['longitude']],\n",
    "    ).add_to(world_all_cities)\n",
    "\n",
    "world_all_cities"
   ]
  },
  {
   "cell_type": "code",
   "execution_count": null,
   "metadata": {},
   "outputs": [],
   "source": [
    "world_all_cities_popup = folium.Map(\n",
    "    zoom_start=2,\n",
    "    location=[13.133932434766733, 16.103938729508073]\n",
    ")\n",
    "\n",
    "for _, city in cities.iterrows():\n",
    "    folium.Marker(\n",
    "        location=[city['latitude'], city['longitude']],\n",
    "        popup=city['name'],\n",
    "    ).add_to(world_all_cities_popup)\n",
    "    \n",
    "world_all_cities_popup"
   ]
  },
  {
   "cell_type": "code",
   "execution_count": null,
   "metadata": {},
   "outputs": [],
   "source": [
    "world_all_cities_tooltip = folium.Map(\n",
    "    zoom_start=2,\n",
    "    location=[13.133932434766733, 16.103938729508073]\n",
    ")\n",
    "\n",
    "for _, city in cities.iterrows():\n",
    "    folium.Marker(\n",
    "        location=[city['latitude'], city['longitude']],\n",
    "        popup=city['name'],\n",
    "        tooltip=city['name'],\n",
    "    ).add_to(world_all_cities_tooltip)\n",
    "    \n",
    "world_all_cities_tooltip"
   ]
  },
  {
   "cell_type": "code",
   "execution_count": null,
   "metadata": {},
   "outputs": [],
   "source": [
    "def select_marker_color(row):\n",
    "    if row['lived'] == 'yes':\n",
    "        return 'pink'\n",
    "    elif row['lived'] == 'no' and row['visited'] == 'yes':\n",
    "        return 'purple'\n",
    "    return 'blue'"
   ]
  },
  {
   "cell_type": "code",
   "execution_count": null,
   "metadata": {},
   "outputs": [],
   "source": [
    "cities['colors'] = cities.apply(select_marker_color, axis=1)\n",
    "cities.head(3)"
   ]
  },
  {
   "cell_type": "code",
   "execution_count": null,
   "metadata": {},
   "outputs": [],
   "source": [
    "world_all_cities_colored = folium.Map(\n",
    "    zoom_start=2,\n",
    "    location=[13.133932434766733, 16.103938729508073]\n",
    ")\n",
    "\n",
    "for _, city in cities.iterrows():\n",
    "    folium.Marker(\n",
    "        location=[city['latitude'], city['longitude']],\n",
    "        popup=city['name'],\n",
    "        tooltip=city['name'],\n",
    "        icon=folium.Icon(color=city['colors'], prefix='fa', icon='circle')\n",
    "    ).add_to(world_all_cities_colored)\n",
    "    \n",
    "world_all_cities_colored"
   ]
  },
  {
   "cell_type": "code",
   "execution_count": 13,
   "metadata": {},
   "outputs": [],
   "source": [
    "world_all_cities_colored.save('../data/world_all_cities_colored.html')"
   ]
  }
 ],
 "metadata": {
  "interpreter": {
   "hash": "c168bd907d9edf6e891a59be7f4ab8312caabe41970dca16a2465f9e936d4872"
  },
  "kernelspec": {
   "display_name": "Python 3.9.7 64-bit",
   "language": "python",
   "name": "python3"
  },
  "language_info": {
   "codemirror_mode": {
    "name": "ipython",
    "version": 3
   },
   "file_extension": ".py",
   "mimetype": "text/x-python",
   "name": "python",
   "nbconvert_exporter": "python",
   "pygments_lexer": "ipython3",
   "version": "3.9.7"
  },
  "orig_nbformat": 4
 },
 "nbformat": 4,
 "nbformat_minor": 2
}
