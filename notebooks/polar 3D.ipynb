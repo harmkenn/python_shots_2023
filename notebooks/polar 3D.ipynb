{
 "cells": [
  {
   "cell_type": "code",
   "execution_count": 2,
   "metadata": {},
   "outputs": [],
   "source": [
    "# https://nbviewer.org/github/ocefpaf/folium_notebooks/blob/a68a89ae28587e6a9fbb21e7a1bd6042183a11bf/test_3D.ipynb\n",
    "\n",
    "import folium"
   ]
  },
  {
   "cell_type": "code",
   "execution_count": 3,
   "metadata": {},
   "outputs": [],
   "source": [
    "from folium.features import Template\n",
    "\n",
    "class Map3d(folium.Map):\n",
    "    def __init__(self, location=None, width='100%', height='100%', left='0%',\n",
    "                 top='0%', position='relative', tiles='OpenStreetMap', API_key=None,\n",
    "                 max_zoom=18, min_zoom=1, zoom_start=10, attr=None, min_lat=-90,\n",
    "                 max_lat=90, min_lon=-180, max_lon=180, detect_retina=False, crs='EPSG3857'):\n",
    "        super(Map3d, self).__init__(location=location, width=width, height=height,\n",
    "                                    left=left, top=top, position=position, tiles=tiles,\n",
    "                                    API_key=API_key, max_zoom=max_zoom, min_zoom=min_zoom,\n",
    "                                    zoom_start=zoom_start, attr=attr, min_lat=min_lat,\n",
    "                                    max_lat=max_lat, min_lon=min_lon, max_lon=max_lon,\n",
    "                                    detect_retina=detect_retina, crs=crs)\n",
    "        self._template = Template(u\"\"\"\n",
    "        {% macro header(this, kwargs) %}\n",
    "            <script src=\"https://www.webglearth.com/v2/api.js\"></script>\n",
    "            <style> #{{this.get_name()}} {\n",
    "                position : {{this.position}};\n",
    "                width : {{this.width[0]}}{{this.width[1]}};\n",
    "                height: {{this.height[0]}}{{this.height[1]}};\n",
    "                left: {{this.left[0]}}{{this.left[1]}};\n",
    "                top: {{this.top[0]}}{{this.top[1]}};\n",
    "                }\n",
    "            </style>\n",
    "        {% endmacro %}\n",
    "        {% macro html(this, kwargs) %}\n",
    "            <div class=\"folium-map\" id=\"{{this.get_name()}}\" ></div>\n",
    "        {% endmacro %}\n",
    "\n",
    "        {% macro script(this, kwargs) %}\n",
    "\n",
    "            var southWest = L.latLng({{ this.min_lat }}, {{ this.min_lon }});\n",
    "            var northEast = L.latLng({{ this.max_lat }}, {{ this.max_lon }});\n",
    "            var bounds = L.latLngBounds(southWest, northEast);\n",
    "\n",
    "            var {{this.get_name()}} = WE.map('{{this.get_name()}}', {\n",
    "                                           center:[{{this.location[0]}},{{this.location[1]}}],\n",
    "                                           zoom: {{this.zoom_start}},\n",
    "                                           maxBounds: bounds,\n",
    "                                           layers: [],\n",
    "                                           crs: L.CRS.{{this.crs}}\n",
    "                                         });\n",
    "        {% endmacro %}\n",
    "        \"\"\")\n",
    "\n",
    "\n",
    "class TileLayer3d(folium.TileLayer):\n",
    "    def __init__(self, tiles='OpenStreetMap', min_zoom=1, max_zoom=18, attr=None,\n",
    "                 API_key=None, detect_retina=False, name=None, overlay=False, control=True):\n",
    "        super(TileLayer3d, self).__init__(tiles=tiles,\n",
    "            min_zoom=min_zoom, max_zoom=max_zoom, attr=attr,\n",
    "            API_key=API_key, detect_retina=detect_retina, name=name,\n",
    "            overlay=overlay, control=control)\n",
    "        self._template = Template(u\"\"\"\n",
    "        {% macro script(this, kwargs) %}\n",
    "            var {{this.get_name()}} = WE.tileLayer(\n",
    "                '{{this.tiles}}',\n",
    "                {\n",
    "                    maxZoom: {{this.max_zoom}},\n",
    "                    minZoom: {{this.min_zoom}},\n",
    "                    attribution: '{{this.attr}}',\n",
    "                    detectRetina: {{this.detect_retina.__str__().lower()}}\n",
    "                    }\n",
    "                ).addTo({{this._parent.get_name()}});\n",
    "\n",
    "        {% endmacro %}\n",
    "        \"\"\")"
   ]
  },
  {
   "cell_type": "code",
   "execution_count": 5,
   "metadata": {},
   "outputs": [
    {
     "data": {
      "text/html": [
       "<div style=\"width:100%;\"><div style=\"position:relative;width:100%;height:0;padding-bottom:60%;\"><span style=\"color:#565656\">Make this Notebook Trusted to load map: File -> Trust Notebook</span><iframe src=\"about:blank\" style=\"position:absolute;width:100%;height:100%;left:0;top:0;border:none !important;\" data-html=%3C%21DOCTYPE%20html%3E%0A%3Chead%3E%20%20%20%20%0A%20%20%20%20%3Cmeta%20http-equiv%3D%22content-type%22%20content%3D%22text/html%3B%20charset%3DUTF-8%22%20/%3E%0A%20%20%20%20%0A%20%20%20%20%20%20%20%20%3Cscript%3E%0A%20%20%20%20%20%20%20%20%20%20%20%20L_NO_TOUCH%20%3D%20false%3B%0A%20%20%20%20%20%20%20%20%20%20%20%20L_DISABLE_3D%20%3D%20false%3B%0A%20%20%20%20%20%20%20%20%3C/script%3E%0A%20%20%20%20%0A%20%20%20%20%3Cstyle%3Ehtml%2C%20body%20%7Bwidth%3A%20100%25%3Bheight%3A%20100%25%3Bmargin%3A%200%3Bpadding%3A%200%3B%7D%3C/style%3E%0A%20%20%20%20%3Cstyle%3E%23map%20%7Bposition%3Aabsolute%3Btop%3A0%3Bbottom%3A0%3Bright%3A0%3Bleft%3A0%3B%7D%3C/style%3E%0A%20%20%20%20%3Cscript%20src%3D%22https%3A//cdn.jsdelivr.net/npm/leaflet%401.6.0/dist/leaflet.js%22%3E%3C/script%3E%0A%20%20%20%20%3Cscript%20src%3D%22https%3A//code.jquery.com/jquery-1.12.4.min.js%22%3E%3C/script%3E%0A%20%20%20%20%3Cscript%20src%3D%22https%3A//maxcdn.bootstrapcdn.com/bootstrap/3.2.0/js/bootstrap.min.js%22%3E%3C/script%3E%0A%20%20%20%20%3Cscript%20src%3D%22https%3A//cdnjs.cloudflare.com/ajax/libs/Leaflet.awesome-markers/2.0.2/leaflet.awesome-markers.js%22%3E%3C/script%3E%0A%20%20%20%20%3Clink%20rel%3D%22stylesheet%22%20href%3D%22https%3A//cdn.jsdelivr.net/npm/leaflet%401.6.0/dist/leaflet.css%22/%3E%0A%20%20%20%20%3Clink%20rel%3D%22stylesheet%22%20href%3D%22https%3A//maxcdn.bootstrapcdn.com/bootstrap/3.2.0/css/bootstrap.min.css%22/%3E%0A%20%20%20%20%3Clink%20rel%3D%22stylesheet%22%20href%3D%22https%3A//maxcdn.bootstrapcdn.com/bootstrap/3.2.0/css/bootstrap-theme.min.css%22/%3E%0A%20%20%20%20%3Clink%20rel%3D%22stylesheet%22%20href%3D%22https%3A//maxcdn.bootstrapcdn.com/font-awesome/4.6.3/css/font-awesome.min.css%22/%3E%0A%20%20%20%20%3Clink%20rel%3D%22stylesheet%22%20href%3D%22https%3A//cdnjs.cloudflare.com/ajax/libs/Leaflet.awesome-markers/2.0.2/leaflet.awesome-markers.css%22/%3E%0A%20%20%20%20%3Clink%20rel%3D%22stylesheet%22%20href%3D%22https%3A//cdn.jsdelivr.net/gh/python-visualization/folium/folium/templates/leaflet.awesome.rotate.min.css%22/%3E%0A%20%20%20%20%0A%20%20%20%20%20%20%20%20%20%20%20%20%3Cscript%20src%3D%22https%3A//www.webglearth.com/v2/api.js%22%3E%3C/script%3E%0A%20%20%20%20%20%20%20%20%20%20%20%20%3Cstyle%3E%20%23map_bf6f552893744ce28900773582ddb052%20%7B%0A%20%20%20%20%20%20%20%20%20%20%20%20%20%20%20%20position%20%3A%20relative%3B%0A%20%20%20%20%20%20%20%20%20%20%20%20%20%20%20%20width%20%3A%20100.0%25%3B%0A%20%20%20%20%20%20%20%20%20%20%20%20%20%20%20%20height%3A%20100.0%25%3B%0A%20%20%20%20%20%20%20%20%20%20%20%20%20%20%20%20left%3A%200.0%25%3B%0A%20%20%20%20%20%20%20%20%20%20%20%20%20%20%20%20top%3A%200.0%25%3B%0A%20%20%20%20%20%20%20%20%20%20%20%20%20%20%20%20%7D%0A%20%20%20%20%20%20%20%20%20%20%20%20%3C/style%3E%0A%20%20%20%20%20%20%20%20%0A%3C/head%3E%0A%3Cbody%3E%20%20%20%20%0A%20%20%20%20%0A%20%20%20%20%20%20%20%20%20%20%20%20%3Cdiv%20class%3D%22folium-map%22%20id%3D%22map_bf6f552893744ce28900773582ddb052%22%20%3E%3C/div%3E%0A%20%20%20%20%20%20%20%20%0A%3C/body%3E%0A%3Cscript%3E%20%20%20%20%0A%20%20%20%20%0A%0A%20%20%20%20%20%20%20%20%20%20%20%20var%20southWest%20%3D%20L.latLng%28%2C%20%29%3B%0A%20%20%20%20%20%20%20%20%20%20%20%20var%20northEast%20%3D%20L.latLng%28%2C%20%29%3B%0A%20%20%20%20%20%20%20%20%20%20%20%20var%20bounds%20%3D%20L.latLngBounds%28southWest%2C%20northEast%29%3B%0A%0A%20%20%20%20%20%20%20%20%20%20%20%20var%20map_bf6f552893744ce28900773582ddb052%20%3D%20WE.map%28%27map_bf6f552893744ce28900773582ddb052%27%2C%20%7B%0A%20%20%20%20%20%20%20%20%20%20%20%20%20%20%20%20%20%20%20%20%20%20%20%20%20%20%20%20%20%20%20%20%20%20%20%20%20%20%20%20%20%20%20center%3A%5B-42.0%2C-42.0%5D%2C%0A%20%20%20%20%20%20%20%20%20%20%20%20%20%20%20%20%20%20%20%20%20%20%20%20%20%20%20%20%20%20%20%20%20%20%20%20%20%20%20%20%20%20%20zoom%3A%20%2C%0A%20%20%20%20%20%20%20%20%20%20%20%20%20%20%20%20%20%20%20%20%20%20%20%20%20%20%20%20%20%20%20%20%20%20%20%20%20%20%20%20%20%20%20maxBounds%3A%20bounds%2C%0A%20%20%20%20%20%20%20%20%20%20%20%20%20%20%20%20%20%20%20%20%20%20%20%20%20%20%20%20%20%20%20%20%20%20%20%20%20%20%20%20%20%20%20layers%3A%20%5B%5D%2C%0A%20%20%20%20%20%20%20%20%20%20%20%20%20%20%20%20%20%20%20%20%20%20%20%20%20%20%20%20%20%20%20%20%20%20%20%20%20%20%20%20%20%20%20crs%3A%20L.CRS.EPSG3857%0A%20%20%20%20%20%20%20%20%20%20%20%20%20%20%20%20%20%20%20%20%20%20%20%20%20%20%20%20%20%20%20%20%20%20%20%20%20%20%20%20%20%7D%29%3B%0A%20%20%20%20%20%20%20%20%0A%20%20%20%20%0A%20%20%20%20%20%20%20%20%20%20%20%20var%20tile_layer_6ac4732f2a0b4fcc89a37a5262cc44d1%20%3D%20WE.tileLayer%28%0A%20%20%20%20%20%20%20%20%20%20%20%20%20%20%20%20%27https%3A//%7Bs%7D.tile.openstreetmap.org/%7Bz%7D/%7Bx%7D/%7By%7D.png%27%2C%0A%20%20%20%20%20%20%20%20%20%20%20%20%20%20%20%20%7B%0A%20%20%20%20%20%20%20%20%20%20%20%20%20%20%20%20%20%20%20%20maxZoom%3A%20%2C%0A%20%20%20%20%20%20%20%20%20%20%20%20%20%20%20%20%20%20%20%20minZoom%3A%20%2C%0A%20%20%20%20%20%20%20%20%20%20%20%20%20%20%20%20%20%20%20%20attribution%3A%20%27%27%2C%0A%20%20%20%20%20%20%20%20%20%20%20%20%20%20%20%20%20%20%20%20detectRetina%3A%20%0A%20%20%20%20%20%20%20%20%20%20%20%20%20%20%20%20%20%20%20%20%7D%0A%20%20%20%20%20%20%20%20%20%20%20%20%20%20%20%20%29.addTo%28map_bf6f552893744ce28900773582ddb052%29%3B%0A%0A%20%20%20%20%20%20%20%20%0A%20%20%20%20%0A%20%20%20%20%20%20%20%20%20%20%20%20var%20tile_layer_8a3912fd4d644a9fb9a60a7faa273552%20%3D%20L.tileLayer%28%0A%20%20%20%20%20%20%20%20%20%20%20%20%20%20%20%20%22http%3A//services.arcgisonline.com/arcgis/rest/servicesOcean/World_Ocean_BaseMapServer/tile/%7Bz%7D/%7By%7D/%7Bx%7D%22%2C%0A%20%20%20%20%20%20%20%20%20%20%20%20%20%20%20%20%7B%22attribution%22%3A%20%22ESRI%22%2C%20%22detectRetina%22%3A%20false%2C%20%22maxNativeZoom%22%3A%2018%2C%20%22maxZoom%22%3A%2018%2C%20%22minZoom%22%3A%200%2C%20%22noWrap%22%3A%20false%2C%20%22opacity%22%3A%201%2C%20%22subdomains%22%3A%20%22abc%22%2C%20%22tms%22%3A%20false%7D%0A%20%20%20%20%20%20%20%20%20%20%20%20%29.addTo%28map_bf6f552893744ce28900773582ddb052%29%3B%0A%20%20%20%20%20%20%20%20%0A%20%20%20%20%0A%20%20%20%20%20%20%20%20%20%20%20%20var%20layer_control_64051573040842699c62ecbd1f53d010%20%3D%20%7B%0A%20%20%20%20%20%20%20%20%20%20%20%20%20%20%20%20base_layers%20%3A%20%7B%0A%20%20%20%20%20%20%20%20%20%20%20%20%20%20%20%20%20%20%20%20%22openstreetmap%22%20%3A%20tile_layer_6ac4732f2a0b4fcc89a37a5262cc44d1%2C%0A%20%20%20%20%20%20%20%20%20%20%20%20%20%20%20%20%7D%2C%0A%20%20%20%20%20%20%20%20%20%20%20%20%20%20%20%20overlays%20%3A%20%20%7B%0A%20%20%20%20%20%20%20%20%20%20%20%20%20%20%20%20%20%20%20%20%22World_Ocean_Base%22%20%3A%20tile_layer_8a3912fd4d644a9fb9a60a7faa273552%2C%0A%20%20%20%20%20%20%20%20%20%20%20%20%20%20%20%20%7D%2C%0A%20%20%20%20%20%20%20%20%20%20%20%20%7D%3B%0A%20%20%20%20%20%20%20%20%20%20%20%20L.control.layers%28%0A%20%20%20%20%20%20%20%20%20%20%20%20%20%20%20%20layer_control_64051573040842699c62ecbd1f53d010.base_layers%2C%0A%20%20%20%20%20%20%20%20%20%20%20%20%20%20%20%20layer_control_64051573040842699c62ecbd1f53d010.overlays%2C%0A%20%20%20%20%20%20%20%20%20%20%20%20%20%20%20%20%7B%22autoZIndex%22%3A%20true%2C%20%22collapsed%22%3A%20true%2C%20%22position%22%3A%20%22topright%22%7D%0A%20%20%20%20%20%20%20%20%20%20%20%20%29.addTo%28map_bf6f552893744ce28900773582ddb052%29%3B%0A%20%20%20%20%20%20%20%20%0A%3C/script%3E onload=\"this.contentDocument.open();this.contentDocument.write(    decodeURIComponent(this.getAttribute('data-html')));this.contentDocument.close();\" allowfullscreen webkitallowfullscreen mozallowfullscreen></iframe></div></div>"
      ],
      "text/plain": [
       "<__main__.Map3d at 0x21837510af0>"
      ]
     },
     "execution_count": 5,
     "metadata": {},
     "output_type": "execute_result"
    }
   ],
   "source": [
    "mapa = Map3d(location=[-42, -42], tiles=None, zoom_start=2)\n",
    "mapa.add_child(TileLayer3d(tiles='OpenStreetMap'))\n",
    "\n",
    "url = ('http://services.arcgisonline.com/arcgis/rest/services'\n",
    "       'Ocean/World_Ocean_Base'\n",
    "       'MapServer/tile/{z}/{y}/{x}')\n",
    "\n",
    "folium.TileLayer(tiles=url,\n",
    "                 name='World_Ocean_Base',\n",
    "                 attr='ESRI',\n",
    "                 overlay=True).add_to(mapa)\n",
    "\n",
    "folium.LayerControl().add_to(mapa)\n",
    "\n",
    "mapa"
   ]
  }
 ],
 "metadata": {
  "interpreter": {
   "hash": "c168bd907d9edf6e891a59be7f4ab8312caabe41970dca16a2465f9e936d4872"
  },
  "kernelspec": {
   "display_name": "Python 3.9.7 64-bit",
   "language": "python",
   "name": "python3"
  },
  "language_info": {
   "codemirror_mode": {
    "name": "ipython",
    "version": 3
   },
   "file_extension": ".py",
   "mimetype": "text/x-python",
   "name": "python",
   "nbconvert_exporter": "python",
   "pygments_lexer": "ipython3",
   "version": "3.9.7"
  },
  "orig_nbformat": 4
 },
 "nbformat": 4,
 "nbformat_minor": 2
}
